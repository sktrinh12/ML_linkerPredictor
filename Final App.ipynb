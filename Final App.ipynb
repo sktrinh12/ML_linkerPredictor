{
 "cells": [
  {
   "cell_type": "markdown",
   "metadata": {},
   "source": [
    "# Amine Activation ML App"
   ]
  },
  {
   "cell_type": "markdown",
   "metadata": {},
   "source": [
    "## Import all libraries"
   ]
  },
  {
   "cell_type": "code",
   "execution_count": 1,
   "metadata": {},
   "outputs": [],
   "source": [
    "import pandas as pd\n",
    "import numpy as np\n",
    "import matplotlib.pyplot as plt\n",
    "import seaborn\n",
    "import pickle\n",
    "import smogn\n",
    "\n",
    "from sklearn.model_selection import train_test_split\n",
    "from sklearn.metrics import mean_squared_error\n",
    "from sklearn.model_selection import GridSearchCV\n",
    "\n",
    "import sklearn.metrics as metrics\n",
    "from sklearn.linear_model import LinearRegression\n",
    "from sklearn.metrics import mean_squared_error, r2_score\n",
    "\n",
    "import xgboost as xgb\n",
    "from xgboost import XGBRegressor\n",
    "from sklearn.neighbors import KNeighborsRegressor \n",
    "from sklearn.ensemble import RandomForestRegressor\n",
    "from sklearn.svm import SVR\n"
   ]
  },
  {
   "cell_type": "markdown",
   "metadata": {},
   "source": [
    "## Import raw activation data"
   ]
  },
  {
   "cell_type": "code",
   "execution_count": 2,
   "metadata": {},
   "outputs": [
    {
     "data": {
      "text/html": [
       "<div>\n",
       "<style scoped>\n",
       "    .dataframe tbody tr th:only-of-type {\n",
       "        vertical-align: middle;\n",
       "    }\n",
       "\n",
       "    .dataframe tbody tr th {\n",
       "        vertical-align: top;\n",
       "    }\n",
       "\n",
       "    .dataframe thead th {\n",
       "        text-align: right;\n",
       "    }\n",
       "</style>\n",
       "<table border=\"1\" class=\"dataframe\">\n",
       "  <thead>\n",
       "    <tr style=\"text-align: right;\">\n",
       "      <th></th>\n",
       "      <th>lot_0</th>\n",
       "      <th>acid_1</th>\n",
       "      <th>acid_mn_2</th>\n",
       "      <th>acid_mp_3</th>\n",
       "      <th>acid_pdi_4</th>\n",
       "      <th>acid_ls_5</th>\n",
       "      <th>scale_6</th>\n",
       "      <th>eda_7</th>\n",
       "      <th>edc_8</th>\n",
       "      <th>nhs_9</th>\n",
       "      <th>...</th>\n",
       "      <th>scale_dummy_21</th>\n",
       "      <th>yield_SK3</th>\n",
       "      <th>yield_UCHT1</th>\n",
       "      <th>yield_53_67</th>\n",
       "      <th>MFI_SK3</th>\n",
       "      <th>SK3_agg</th>\n",
       "      <th>MFI_UCHT1</th>\n",
       "      <th>UCHT1_agg</th>\n",
       "      <th>MFI_53_67</th>\n",
       "      <th>53_67_agg</th>\n",
       "    </tr>\n",
       "  </thead>\n",
       "  <tbody>\n",
       "    <tr>\n",
       "      <th>0</th>\n",
       "      <td>NaN</td>\n",
       "      <td>1519</td>\n",
       "      <td>56.0</td>\n",
       "      <td>98.0</td>\n",
       "      <td>1.79</td>\n",
       "      <td>128.0</td>\n",
       "      <td>50</td>\n",
       "      <td>2000</td>\n",
       "      <td>200</td>\n",
       "      <td>200</td>\n",
       "      <td>...</td>\n",
       "      <td>0</td>\n",
       "      <td>NaN</td>\n",
       "      <td>50.0</td>\n",
       "      <td>42.0</td>\n",
       "      <td>NaN</td>\n",
       "      <td>NaN</td>\n",
       "      <td>NaN</td>\n",
       "      <td>NaN</td>\n",
       "      <td>NaN</td>\n",
       "      <td>NaN</td>\n",
       "    </tr>\n",
       "    <tr>\n",
       "      <th>1</th>\n",
       "      <td>NaN</td>\n",
       "      <td>1519</td>\n",
       "      <td>56.0</td>\n",
       "      <td>98.0</td>\n",
       "      <td>1.79</td>\n",
       "      <td>128.0</td>\n",
       "      <td>50</td>\n",
       "      <td>2000</td>\n",
       "      <td>300</td>\n",
       "      <td>200</td>\n",
       "      <td>...</td>\n",
       "      <td>0</td>\n",
       "      <td>NaN</td>\n",
       "      <td>49.0</td>\n",
       "      <td>38.0</td>\n",
       "      <td>NaN</td>\n",
       "      <td>NaN</td>\n",
       "      <td>NaN</td>\n",
       "      <td>NaN</td>\n",
       "      <td>NaN</td>\n",
       "      <td>NaN</td>\n",
       "    </tr>\n",
       "    <tr>\n",
       "      <th>2</th>\n",
       "      <td>NaN</td>\n",
       "      <td>1232</td>\n",
       "      <td>58.0</td>\n",
       "      <td>109.0</td>\n",
       "      <td>1.90</td>\n",
       "      <td>220.0</td>\n",
       "      <td>50</td>\n",
       "      <td>1700</td>\n",
       "      <td>250</td>\n",
       "      <td>200</td>\n",
       "      <td>...</td>\n",
       "      <td>0</td>\n",
       "      <td>NaN</td>\n",
       "      <td>38.0</td>\n",
       "      <td>34.0</td>\n",
       "      <td>NaN</td>\n",
       "      <td>NaN</td>\n",
       "      <td>161.0</td>\n",
       "      <td>NaN</td>\n",
       "      <td>128.0</td>\n",
       "      <td>NaN</td>\n",
       "    </tr>\n",
       "    <tr>\n",
       "      <th>3</th>\n",
       "      <td>NaN</td>\n",
       "      <td>1232</td>\n",
       "      <td>58.0</td>\n",
       "      <td>109.0</td>\n",
       "      <td>1.90</td>\n",
       "      <td>220.0</td>\n",
       "      <td>50</td>\n",
       "      <td>1700</td>\n",
       "      <td>300</td>\n",
       "      <td>200</td>\n",
       "      <td>...</td>\n",
       "      <td>0</td>\n",
       "      <td>NaN</td>\n",
       "      <td>NaN</td>\n",
       "      <td>NaN</td>\n",
       "      <td>NaN</td>\n",
       "      <td>NaN</td>\n",
       "      <td>NaN</td>\n",
       "      <td>NaN</td>\n",
       "      <td>NaN</td>\n",
       "      <td>NaN</td>\n",
       "    </tr>\n",
       "    <tr>\n",
       "      <th>4</th>\n",
       "      <td>NaN</td>\n",
       "      <td>1232</td>\n",
       "      <td>58.0</td>\n",
       "      <td>109.0</td>\n",
       "      <td>1.90</td>\n",
       "      <td>220.0</td>\n",
       "      <td>50</td>\n",
       "      <td>1700</td>\n",
       "      <td>400</td>\n",
       "      <td>200</td>\n",
       "      <td>...</td>\n",
       "      <td>0</td>\n",
       "      <td>NaN</td>\n",
       "      <td>NaN</td>\n",
       "      <td>NaN</td>\n",
       "      <td>NaN</td>\n",
       "      <td>NaN</td>\n",
       "      <td>NaN</td>\n",
       "      <td>NaN</td>\n",
       "      <td>NaN</td>\n",
       "      <td>NaN</td>\n",
       "    </tr>\n",
       "    <tr>\n",
       "      <th>...</th>\n",
       "      <td>...</td>\n",
       "      <td>...</td>\n",
       "      <td>...</td>\n",
       "      <td>...</td>\n",
       "      <td>...</td>\n",
       "      <td>...</td>\n",
       "      <td>...</td>\n",
       "      <td>...</td>\n",
       "      <td>...</td>\n",
       "      <td>...</td>\n",
       "      <td>...</td>\n",
       "      <td>...</td>\n",
       "      <td>...</td>\n",
       "      <td>...</td>\n",
       "      <td>...</td>\n",
       "      <td>...</td>\n",
       "      <td>...</td>\n",
       "      <td>...</td>\n",
       "      <td>...</td>\n",
       "      <td>...</td>\n",
       "      <td>...</td>\n",
       "    </tr>\n",
       "    <tr>\n",
       "      <th>124</th>\n",
       "      <td>D2614</td>\n",
       "      <td>D2593</td>\n",
       "      <td>54.0</td>\n",
       "      <td>74.0</td>\n",
       "      <td>1.44</td>\n",
       "      <td>140.0</td>\n",
       "      <td>50</td>\n",
       "      <td>2000</td>\n",
       "      <td>800</td>\n",
       "      <td>200</td>\n",
       "      <td>...</td>\n",
       "      <td>0</td>\n",
       "      <td>NaN</td>\n",
       "      <td>NaN</td>\n",
       "      <td>NaN</td>\n",
       "      <td>NaN</td>\n",
       "      <td>NaN</td>\n",
       "      <td>NaN</td>\n",
       "      <td>NaN</td>\n",
       "      <td>NaN</td>\n",
       "      <td>NaN</td>\n",
       "    </tr>\n",
       "    <tr>\n",
       "      <th>125</th>\n",
       "      <td>D2672</td>\n",
       "      <td>D2656</td>\n",
       "      <td>56.0</td>\n",
       "      <td>97.0</td>\n",
       "      <td>1.60</td>\n",
       "      <td>175.0</td>\n",
       "      <td>50</td>\n",
       "      <td>2000</td>\n",
       "      <td>400</td>\n",
       "      <td>200</td>\n",
       "      <td>...</td>\n",
       "      <td>0</td>\n",
       "      <td>NaN</td>\n",
       "      <td>NaN</td>\n",
       "      <td>NaN</td>\n",
       "      <td>NaN</td>\n",
       "      <td>NaN</td>\n",
       "      <td>NaN</td>\n",
       "      <td>NaN</td>\n",
       "      <td>NaN</td>\n",
       "      <td>NaN</td>\n",
       "    </tr>\n",
       "    <tr>\n",
       "      <th>126</th>\n",
       "      <td>D2673</td>\n",
       "      <td>D2656</td>\n",
       "      <td>56.0</td>\n",
       "      <td>97.0</td>\n",
       "      <td>1.60</td>\n",
       "      <td>175.0</td>\n",
       "      <td>50</td>\n",
       "      <td>2000</td>\n",
       "      <td>500</td>\n",
       "      <td>200</td>\n",
       "      <td>...</td>\n",
       "      <td>0</td>\n",
       "      <td>NaN</td>\n",
       "      <td>NaN</td>\n",
       "      <td>NaN</td>\n",
       "      <td>NaN</td>\n",
       "      <td>NaN</td>\n",
       "      <td>NaN</td>\n",
       "      <td>NaN</td>\n",
       "      <td>NaN</td>\n",
       "      <td>NaN</td>\n",
       "    </tr>\n",
       "    <tr>\n",
       "      <th>127</th>\n",
       "      <td>D2674</td>\n",
       "      <td>D2656</td>\n",
       "      <td>56.0</td>\n",
       "      <td>97.0</td>\n",
       "      <td>1.60</td>\n",
       "      <td>175.0</td>\n",
       "      <td>50</td>\n",
       "      <td>2000</td>\n",
       "      <td>650</td>\n",
       "      <td>200</td>\n",
       "      <td>...</td>\n",
       "      <td>0</td>\n",
       "      <td>NaN</td>\n",
       "      <td>NaN</td>\n",
       "      <td>NaN</td>\n",
       "      <td>NaN</td>\n",
       "      <td>NaN</td>\n",
       "      <td>NaN</td>\n",
       "      <td>NaN</td>\n",
       "      <td>NaN</td>\n",
       "      <td>NaN</td>\n",
       "    </tr>\n",
       "    <tr>\n",
       "      <th>128</th>\n",
       "      <td>D2675</td>\n",
       "      <td>D2656</td>\n",
       "      <td>56.0</td>\n",
       "      <td>97.0</td>\n",
       "      <td>1.60</td>\n",
       "      <td>175.0</td>\n",
       "      <td>50</td>\n",
       "      <td>2000</td>\n",
       "      <td>800</td>\n",
       "      <td>200</td>\n",
       "      <td>...</td>\n",
       "      <td>0</td>\n",
       "      <td>NaN</td>\n",
       "      <td>NaN</td>\n",
       "      <td>NaN</td>\n",
       "      <td>NaN</td>\n",
       "      <td>NaN</td>\n",
       "      <td>NaN</td>\n",
       "      <td>NaN</td>\n",
       "      <td>NaN</td>\n",
       "      <td>NaN</td>\n",
       "    </tr>\n",
       "  </tbody>\n",
       "</table>\n",
       "<p>129 rows × 31 columns</p>\n",
       "</div>"
      ],
      "text/plain": [
       "     lot_0 acid_1  acid_mn_2  acid_mp_3  acid_pdi_4  acid_ls_5  scale_6  \\\n",
       "0      NaN   1519       56.0       98.0        1.79      128.0       50   \n",
       "1      NaN   1519       56.0       98.0        1.79      128.0       50   \n",
       "2      NaN   1232       58.0      109.0        1.90      220.0       50   \n",
       "3      NaN   1232       58.0      109.0        1.90      220.0       50   \n",
       "4      NaN   1232       58.0      109.0        1.90      220.0       50   \n",
       "..     ...    ...        ...        ...         ...        ...      ...   \n",
       "124  D2614  D2593       54.0       74.0        1.44      140.0       50   \n",
       "125  D2672  D2656       56.0       97.0        1.60      175.0       50   \n",
       "126  D2673  D2656       56.0       97.0        1.60      175.0       50   \n",
       "127  D2674  D2656       56.0       97.0        1.60      175.0       50   \n",
       "128  D2675  D2656       56.0       97.0        1.60      175.0       50   \n",
       "\n",
       "     eda_7  edc_8  nhs_9  ...  scale_dummy_21 yield_SK3  yield_UCHT1  \\\n",
       "0     2000    200    200  ...               0       NaN         50.0   \n",
       "1     2000    300    200  ...               0       NaN         49.0   \n",
       "2     1700    250    200  ...               0       NaN         38.0   \n",
       "3     1700    300    200  ...               0       NaN          NaN   \n",
       "4     1700    400    200  ...               0       NaN          NaN   \n",
       "..     ...    ...    ...  ...             ...       ...          ...   \n",
       "124   2000    800    200  ...               0       NaN          NaN   \n",
       "125   2000    400    200  ...               0       NaN          NaN   \n",
       "126   2000    500    200  ...               0       NaN          NaN   \n",
       "127   2000    650    200  ...               0       NaN          NaN   \n",
       "128   2000    800    200  ...               0       NaN          NaN   \n",
       "\n",
       "     yield_53_67  MFI_SK3  SK3_agg  MFI_UCHT1  UCHT1_agg  MFI_53_67  53_67_agg  \n",
       "0           42.0      NaN      NaN        NaN        NaN        NaN        NaN  \n",
       "1           38.0      NaN      NaN        NaN        NaN        NaN        NaN  \n",
       "2           34.0      NaN      NaN      161.0        NaN      128.0        NaN  \n",
       "3            NaN      NaN      NaN        NaN        NaN        NaN        NaN  \n",
       "4            NaN      NaN      NaN        NaN        NaN        NaN        NaN  \n",
       "..           ...      ...      ...        ...        ...        ...        ...  \n",
       "124          NaN      NaN      NaN        NaN        NaN        NaN        NaN  \n",
       "125          NaN      NaN      NaN        NaN        NaN        NaN        NaN  \n",
       "126          NaN      NaN      NaN        NaN        NaN        NaN        NaN  \n",
       "127          NaN      NaN      NaN        NaN        NaN        NaN        NaN  \n",
       "128          NaN      NaN      NaN        NaN        NaN        NaN        NaN  \n",
       "\n",
       "[129 rows x 31 columns]"
      ]
     },
     "execution_count": 2,
     "metadata": {},
     "output_type": "execute_result"
    }
   ],
   "source": [
    "df = pd.read_csv(r'raw_data.csv')\n",
    "df"
   ]
  },
  {
   "cell_type": "markdown",
   "metadata": {},
   "source": [
    "## Create sub-dataset with relevant columns"
   ]
  },
  {
   "cell_type": "code",
   "execution_count": 3,
   "metadata": {},
   "outputs": [
    {
     "data": {
      "text/html": [
       "<div>\n",
       "<style scoped>\n",
       "    .dataframe tbody tr th:only-of-type {\n",
       "        vertical-align: middle;\n",
       "    }\n",
       "\n",
       "    .dataframe tbody tr th {\n",
       "        vertical-align: top;\n",
       "    }\n",
       "\n",
       "    .dataframe thead th {\n",
       "        text-align: right;\n",
       "    }\n",
       "</style>\n",
       "<table border=\"1\" class=\"dataframe\">\n",
       "  <thead>\n",
       "    <tr style=\"text-align: right;\">\n",
       "      <th></th>\n",
       "      <th>acid_mn_2</th>\n",
       "      <th>acid_mp_3</th>\n",
       "      <th>acid_pdi_4</th>\n",
       "      <th>acid_ls_5</th>\n",
       "      <th>scale_6</th>\n",
       "      <th>eda_7</th>\n",
       "      <th>edc_8</th>\n",
       "      <th>nhs_9</th>\n",
       "      <th>time_10</th>\n",
       "      <th>temp_12</th>\n",
       "      <th>LS_16</th>\n",
       "      <th>time_dummy_20</th>\n",
       "      <th>scale_dummy_21</th>\n",
       "    </tr>\n",
       "  </thead>\n",
       "  <tbody>\n",
       "    <tr>\n",
       "      <th>0</th>\n",
       "      <td>56.0</td>\n",
       "      <td>98.0</td>\n",
       "      <td>1.79</td>\n",
       "      <td>128.0</td>\n",
       "      <td>50</td>\n",
       "      <td>2000</td>\n",
       "      <td>200</td>\n",
       "      <td>200</td>\n",
       "      <td>1</td>\n",
       "      <td>20</td>\n",
       "      <td>88.0</td>\n",
       "      <td>0</td>\n",
       "      <td>0</td>\n",
       "    </tr>\n",
       "    <tr>\n",
       "      <th>1</th>\n",
       "      <td>56.0</td>\n",
       "      <td>98.0</td>\n",
       "      <td>1.79</td>\n",
       "      <td>128.0</td>\n",
       "      <td>50</td>\n",
       "      <td>2000</td>\n",
       "      <td>300</td>\n",
       "      <td>200</td>\n",
       "      <td>1</td>\n",
       "      <td>20</td>\n",
       "      <td>117.0</td>\n",
       "      <td>0</td>\n",
       "      <td>0</td>\n",
       "    </tr>\n",
       "    <tr>\n",
       "      <th>2</th>\n",
       "      <td>58.0</td>\n",
       "      <td>109.0</td>\n",
       "      <td>1.90</td>\n",
       "      <td>220.0</td>\n",
       "      <td>50</td>\n",
       "      <td>1700</td>\n",
       "      <td>250</td>\n",
       "      <td>200</td>\n",
       "      <td>1</td>\n",
       "      <td>20</td>\n",
       "      <td>146.0</td>\n",
       "      <td>0</td>\n",
       "      <td>0</td>\n",
       "    </tr>\n",
       "    <tr>\n",
       "      <th>3</th>\n",
       "      <td>58.0</td>\n",
       "      <td>109.0</td>\n",
       "      <td>1.90</td>\n",
       "      <td>220.0</td>\n",
       "      <td>50</td>\n",
       "      <td>1700</td>\n",
       "      <td>300</td>\n",
       "      <td>200</td>\n",
       "      <td>1</td>\n",
       "      <td>20</td>\n",
       "      <td>169.0</td>\n",
       "      <td>0</td>\n",
       "      <td>0</td>\n",
       "    </tr>\n",
       "    <tr>\n",
       "      <th>4</th>\n",
       "      <td>58.0</td>\n",
       "      <td>109.0</td>\n",
       "      <td>1.90</td>\n",
       "      <td>220.0</td>\n",
       "      <td>50</td>\n",
       "      <td>1700</td>\n",
       "      <td>400</td>\n",
       "      <td>200</td>\n",
       "      <td>1</td>\n",
       "      <td>20</td>\n",
       "      <td>186.0</td>\n",
       "      <td>0</td>\n",
       "      <td>0</td>\n",
       "    </tr>\n",
       "    <tr>\n",
       "      <th>...</th>\n",
       "      <td>...</td>\n",
       "      <td>...</td>\n",
       "      <td>...</td>\n",
       "      <td>...</td>\n",
       "      <td>...</td>\n",
       "      <td>...</td>\n",
       "      <td>...</td>\n",
       "      <td>...</td>\n",
       "      <td>...</td>\n",
       "      <td>...</td>\n",
       "      <td>...</td>\n",
       "      <td>...</td>\n",
       "      <td>...</td>\n",
       "    </tr>\n",
       "    <tr>\n",
       "      <th>124</th>\n",
       "      <td>54.0</td>\n",
       "      <td>74.0</td>\n",
       "      <td>1.44</td>\n",
       "      <td>140.0</td>\n",
       "      <td>50</td>\n",
       "      <td>2000</td>\n",
       "      <td>800</td>\n",
       "      <td>200</td>\n",
       "      <td>24</td>\n",
       "      <td>4</td>\n",
       "      <td>110.0</td>\n",
       "      <td>1</td>\n",
       "      <td>0</td>\n",
       "    </tr>\n",
       "    <tr>\n",
       "      <th>125</th>\n",
       "      <td>56.0</td>\n",
       "      <td>97.0</td>\n",
       "      <td>1.60</td>\n",
       "      <td>175.0</td>\n",
       "      <td>50</td>\n",
       "      <td>2000</td>\n",
       "      <td>400</td>\n",
       "      <td>200</td>\n",
       "      <td>24</td>\n",
       "      <td>4</td>\n",
       "      <td>79.0</td>\n",
       "      <td>1</td>\n",
       "      <td>0</td>\n",
       "    </tr>\n",
       "    <tr>\n",
       "      <th>126</th>\n",
       "      <td>56.0</td>\n",
       "      <td>97.0</td>\n",
       "      <td>1.60</td>\n",
       "      <td>175.0</td>\n",
       "      <td>50</td>\n",
       "      <td>2000</td>\n",
       "      <td>500</td>\n",
       "      <td>200</td>\n",
       "      <td>24</td>\n",
       "      <td>4</td>\n",
       "      <td>91.0</td>\n",
       "      <td>1</td>\n",
       "      <td>0</td>\n",
       "    </tr>\n",
       "    <tr>\n",
       "      <th>127</th>\n",
       "      <td>56.0</td>\n",
       "      <td>97.0</td>\n",
       "      <td>1.60</td>\n",
       "      <td>175.0</td>\n",
       "      <td>50</td>\n",
       "      <td>2000</td>\n",
       "      <td>650</td>\n",
       "      <td>200</td>\n",
       "      <td>24</td>\n",
       "      <td>4</td>\n",
       "      <td>106.0</td>\n",
       "      <td>1</td>\n",
       "      <td>0</td>\n",
       "    </tr>\n",
       "    <tr>\n",
       "      <th>128</th>\n",
       "      <td>56.0</td>\n",
       "      <td>97.0</td>\n",
       "      <td>1.60</td>\n",
       "      <td>175.0</td>\n",
       "      <td>50</td>\n",
       "      <td>2000</td>\n",
       "      <td>800</td>\n",
       "      <td>200</td>\n",
       "      <td>24</td>\n",
       "      <td>4</td>\n",
       "      <td>120.0</td>\n",
       "      <td>1</td>\n",
       "      <td>0</td>\n",
       "    </tr>\n",
       "  </tbody>\n",
       "</table>\n",
       "<p>129 rows × 13 columns</p>\n",
       "</div>"
      ],
      "text/plain": [
       "     acid_mn_2  acid_mp_3  acid_pdi_4  acid_ls_5  scale_6  eda_7  edc_8  \\\n",
       "0         56.0       98.0        1.79      128.0       50   2000    200   \n",
       "1         56.0       98.0        1.79      128.0       50   2000    300   \n",
       "2         58.0      109.0        1.90      220.0       50   1700    250   \n",
       "3         58.0      109.0        1.90      220.0       50   1700    300   \n",
       "4         58.0      109.0        1.90      220.0       50   1700    400   \n",
       "..         ...        ...         ...        ...      ...    ...    ...   \n",
       "124       54.0       74.0        1.44      140.0       50   2000    800   \n",
       "125       56.0       97.0        1.60      175.0       50   2000    400   \n",
       "126       56.0       97.0        1.60      175.0       50   2000    500   \n",
       "127       56.0       97.0        1.60      175.0       50   2000    650   \n",
       "128       56.0       97.0        1.60      175.0       50   2000    800   \n",
       "\n",
       "     nhs_9  time_10  temp_12  LS_16  time_dummy_20  scale_dummy_21  \n",
       "0      200        1       20   88.0              0               0  \n",
       "1      200        1       20  117.0              0               0  \n",
       "2      200        1       20  146.0              0               0  \n",
       "3      200        1       20  169.0              0               0  \n",
       "4      200        1       20  186.0              0               0  \n",
       "..     ...      ...      ...    ...            ...             ...  \n",
       "124    200       24        4  110.0              1               0  \n",
       "125    200       24        4   79.0              1               0  \n",
       "126    200       24        4   91.0              1               0  \n",
       "127    200       24        4  106.0              1               0  \n",
       "128    200       24        4  120.0              1               0  \n",
       "\n",
       "[129 rows x 13 columns]"
      ]
     },
     "execution_count": 3,
     "metadata": {},
     "output_type": "execute_result"
    }
   ],
   "source": [
    "subdf = df.take([2,3,4,5,6,7,8,9,10,12,16,20,21],axis=1)\n",
    "subdf"
   ]
  },
  {
   "cell_type": "markdown",
   "metadata": {},
   "source": [
    "## Basic data analytics"
   ]
  },
  {
   "cell_type": "code",
   "execution_count": 4,
   "metadata": {},
   "outputs": [
    {
     "data": {
      "text/html": [
       "<div>\n",
       "<style scoped>\n",
       "    .dataframe tbody tr th:only-of-type {\n",
       "        vertical-align: middle;\n",
       "    }\n",
       "\n",
       "    .dataframe tbody tr th {\n",
       "        vertical-align: top;\n",
       "    }\n",
       "\n",
       "    .dataframe thead th {\n",
       "        text-align: right;\n",
       "    }\n",
       "</style>\n",
       "<table border=\"1\" class=\"dataframe\">\n",
       "  <thead>\n",
       "    <tr style=\"text-align: right;\">\n",
       "      <th></th>\n",
       "      <th>acid_mn_2</th>\n",
       "      <th>acid_mp_3</th>\n",
       "      <th>acid_pdi_4</th>\n",
       "      <th>acid_ls_5</th>\n",
       "      <th>scale_6</th>\n",
       "      <th>eda_7</th>\n",
       "      <th>edc_8</th>\n",
       "      <th>nhs_9</th>\n",
       "      <th>time_10</th>\n",
       "      <th>temp_12</th>\n",
       "      <th>LS_16</th>\n",
       "      <th>time_dummy_20</th>\n",
       "      <th>scale_dummy_21</th>\n",
       "    </tr>\n",
       "  </thead>\n",
       "  <tbody>\n",
       "    <tr>\n",
       "      <th>acid_mn_2</th>\n",
       "      <td>1.000000</td>\n",
       "      <td>0.506349</td>\n",
       "      <td>0.111279</td>\n",
       "      <td>0.116827</td>\n",
       "      <td>0.042135</td>\n",
       "      <td>-0.135912</td>\n",
       "      <td>-0.017751</td>\n",
       "      <td>-0.506485</td>\n",
       "      <td>-0.261984</td>\n",
       "      <td>0.448154</td>\n",
       "      <td>0.441703</td>\n",
       "      <td>-0.261984</td>\n",
       "      <td>0.074274</td>\n",
       "    </tr>\n",
       "    <tr>\n",
       "      <th>acid_mp_3</th>\n",
       "      <td>0.506349</td>\n",
       "      <td>1.000000</td>\n",
       "      <td>0.838684</td>\n",
       "      <td>0.635021</td>\n",
       "      <td>-0.067429</td>\n",
       "      <td>0.087529</td>\n",
       "      <td>-0.092667</td>\n",
       "      <td>-0.305206</td>\n",
       "      <td>-0.218166</td>\n",
       "      <td>0.252085</td>\n",
       "      <td>0.386560</td>\n",
       "      <td>-0.218166</td>\n",
       "      <td>-0.065844</td>\n",
       "    </tr>\n",
       "    <tr>\n",
       "      <th>acid_pdi_4</th>\n",
       "      <td>0.111279</td>\n",
       "      <td>0.838684</td>\n",
       "      <td>1.000000</td>\n",
       "      <td>0.630751</td>\n",
       "      <td>-0.114594</td>\n",
       "      <td>0.107304</td>\n",
       "      <td>-0.172603</td>\n",
       "      <td>-0.170319</td>\n",
       "      <td>-0.285430</td>\n",
       "      <td>0.220677</td>\n",
       "      <td>0.305917</td>\n",
       "      <td>-0.285430</td>\n",
       "      <td>-0.154532</td>\n",
       "    </tr>\n",
       "    <tr>\n",
       "      <th>acid_ls_5</th>\n",
       "      <td>0.116827</td>\n",
       "      <td>0.635021</td>\n",
       "      <td>0.630751</td>\n",
       "      <td>1.000000</td>\n",
       "      <td>-0.217106</td>\n",
       "      <td>0.091347</td>\n",
       "      <td>-0.073832</td>\n",
       "      <td>-0.353630</td>\n",
       "      <td>-0.116663</td>\n",
       "      <td>0.244999</td>\n",
       "      <td>0.459551</td>\n",
       "      <td>-0.116663</td>\n",
       "      <td>-0.295754</td>\n",
       "    </tr>\n",
       "    <tr>\n",
       "      <th>scale_6</th>\n",
       "      <td>0.042135</td>\n",
       "      <td>-0.067429</td>\n",
       "      <td>-0.114594</td>\n",
       "      <td>-0.217106</td>\n",
       "      <td>1.000000</td>\n",
       "      <td>-0.030248</td>\n",
       "      <td>-0.006504</td>\n",
       "      <td>0.138233</td>\n",
       "      <td>0.301639</td>\n",
       "      <td>-0.248395</td>\n",
       "      <td>-0.226256</td>\n",
       "      <td>0.301639</td>\n",
       "      <td>0.808958</td>\n",
       "    </tr>\n",
       "    <tr>\n",
       "      <th>eda_7</th>\n",
       "      <td>-0.135912</td>\n",
       "      <td>0.087529</td>\n",
       "      <td>0.107304</td>\n",
       "      <td>0.091347</td>\n",
       "      <td>-0.030248</td>\n",
       "      <td>1.000000</td>\n",
       "      <td>0.356750</td>\n",
       "      <td>0.051436</td>\n",
       "      <td>-0.027291</td>\n",
       "      <td>-0.219173</td>\n",
       "      <td>0.154930</td>\n",
       "      <td>-0.027291</td>\n",
       "      <td>-0.037391</td>\n",
       "    </tr>\n",
       "    <tr>\n",
       "      <th>edc_8</th>\n",
       "      <td>-0.017751</td>\n",
       "      <td>-0.092667</td>\n",
       "      <td>-0.172603</td>\n",
       "      <td>-0.073832</td>\n",
       "      <td>-0.006504</td>\n",
       "      <td>0.356750</td>\n",
       "      <td>1.000000</td>\n",
       "      <td>0.042309</td>\n",
       "      <td>0.239181</td>\n",
       "      <td>-0.435906</td>\n",
       "      <td>0.312942</td>\n",
       "      <td>0.239181</td>\n",
       "      <td>0.002457</td>\n",
       "    </tr>\n",
       "    <tr>\n",
       "      <th>nhs_9</th>\n",
       "      <td>-0.506485</td>\n",
       "      <td>-0.305206</td>\n",
       "      <td>-0.170319</td>\n",
       "      <td>-0.353630</td>\n",
       "      <td>0.138233</td>\n",
       "      <td>0.051436</td>\n",
       "      <td>0.042309</td>\n",
       "      <td>1.000000</td>\n",
       "      <td>0.301925</td>\n",
       "      <td>-0.466446</td>\n",
       "      <td>-0.557582</td>\n",
       "      <td>0.301925</td>\n",
       "      <td>0.129502</td>\n",
       "    </tr>\n",
       "    <tr>\n",
       "      <th>time_10</th>\n",
       "      <td>-0.261984</td>\n",
       "      <td>-0.218166</td>\n",
       "      <td>-0.285430</td>\n",
       "      <td>-0.116663</td>\n",
       "      <td>0.301639</td>\n",
       "      <td>-0.027291</td>\n",
       "      <td>0.239181</td>\n",
       "      <td>0.301925</td>\n",
       "      <td>1.000000</td>\n",
       "      <td>-0.663558</td>\n",
       "      <td>-0.446088</td>\n",
       "      <td>1.000000</td>\n",
       "      <td>0.366940</td>\n",
       "    </tr>\n",
       "    <tr>\n",
       "      <th>temp_12</th>\n",
       "      <td>0.448154</td>\n",
       "      <td>0.252085</td>\n",
       "      <td>0.220677</td>\n",
       "      <td>0.244999</td>\n",
       "      <td>-0.248395</td>\n",
       "      <td>-0.219173</td>\n",
       "      <td>-0.435906</td>\n",
       "      <td>-0.466446</td>\n",
       "      <td>-0.663558</td>\n",
       "      <td>1.000000</td>\n",
       "      <td>0.564463</td>\n",
       "      <td>-0.663558</td>\n",
       "      <td>-0.272031</td>\n",
       "    </tr>\n",
       "    <tr>\n",
       "      <th>LS_16</th>\n",
       "      <td>0.441703</td>\n",
       "      <td>0.386560</td>\n",
       "      <td>0.305917</td>\n",
       "      <td>0.459551</td>\n",
       "      <td>-0.226256</td>\n",
       "      <td>0.154930</td>\n",
       "      <td>0.312942</td>\n",
       "      <td>-0.557582</td>\n",
       "      <td>-0.446088</td>\n",
       "      <td>0.564463</td>\n",
       "      <td>1.000000</td>\n",
       "      <td>-0.446088</td>\n",
       "      <td>-0.244206</td>\n",
       "    </tr>\n",
       "    <tr>\n",
       "      <th>time_dummy_20</th>\n",
       "      <td>-0.261984</td>\n",
       "      <td>-0.218166</td>\n",
       "      <td>-0.285430</td>\n",
       "      <td>-0.116663</td>\n",
       "      <td>0.301639</td>\n",
       "      <td>-0.027291</td>\n",
       "      <td>0.239181</td>\n",
       "      <td>0.301925</td>\n",
       "      <td>1.000000</td>\n",
       "      <td>-0.663558</td>\n",
       "      <td>-0.446088</td>\n",
       "      <td>1.000000</td>\n",
       "      <td>0.366940</td>\n",
       "    </tr>\n",
       "    <tr>\n",
       "      <th>scale_dummy_21</th>\n",
       "      <td>0.074274</td>\n",
       "      <td>-0.065844</td>\n",
       "      <td>-0.154532</td>\n",
       "      <td>-0.295754</td>\n",
       "      <td>0.808958</td>\n",
       "      <td>-0.037391</td>\n",
       "      <td>0.002457</td>\n",
       "      <td>0.129502</td>\n",
       "      <td>0.366940</td>\n",
       "      <td>-0.272031</td>\n",
       "      <td>-0.244206</td>\n",
       "      <td>0.366940</td>\n",
       "      <td>1.000000</td>\n",
       "    </tr>\n",
       "  </tbody>\n",
       "</table>\n",
       "</div>"
      ],
      "text/plain": [
       "                acid_mn_2  acid_mp_3  acid_pdi_4  acid_ls_5   scale_6  \\\n",
       "acid_mn_2        1.000000   0.506349    0.111279   0.116827  0.042135   \n",
       "acid_mp_3        0.506349   1.000000    0.838684   0.635021 -0.067429   \n",
       "acid_pdi_4       0.111279   0.838684    1.000000   0.630751 -0.114594   \n",
       "acid_ls_5        0.116827   0.635021    0.630751   1.000000 -0.217106   \n",
       "scale_6          0.042135  -0.067429   -0.114594  -0.217106  1.000000   \n",
       "eda_7           -0.135912   0.087529    0.107304   0.091347 -0.030248   \n",
       "edc_8           -0.017751  -0.092667   -0.172603  -0.073832 -0.006504   \n",
       "nhs_9           -0.506485  -0.305206   -0.170319  -0.353630  0.138233   \n",
       "time_10         -0.261984  -0.218166   -0.285430  -0.116663  0.301639   \n",
       "temp_12          0.448154   0.252085    0.220677   0.244999 -0.248395   \n",
       "LS_16            0.441703   0.386560    0.305917   0.459551 -0.226256   \n",
       "time_dummy_20   -0.261984  -0.218166   -0.285430  -0.116663  0.301639   \n",
       "scale_dummy_21   0.074274  -0.065844   -0.154532  -0.295754  0.808958   \n",
       "\n",
       "                   eda_7     edc_8     nhs_9   time_10   temp_12     LS_16  \\\n",
       "acid_mn_2      -0.135912 -0.017751 -0.506485 -0.261984  0.448154  0.441703   \n",
       "acid_mp_3       0.087529 -0.092667 -0.305206 -0.218166  0.252085  0.386560   \n",
       "acid_pdi_4      0.107304 -0.172603 -0.170319 -0.285430  0.220677  0.305917   \n",
       "acid_ls_5       0.091347 -0.073832 -0.353630 -0.116663  0.244999  0.459551   \n",
       "scale_6        -0.030248 -0.006504  0.138233  0.301639 -0.248395 -0.226256   \n",
       "eda_7           1.000000  0.356750  0.051436 -0.027291 -0.219173  0.154930   \n",
       "edc_8           0.356750  1.000000  0.042309  0.239181 -0.435906  0.312942   \n",
       "nhs_9           0.051436  0.042309  1.000000  0.301925 -0.466446 -0.557582   \n",
       "time_10        -0.027291  0.239181  0.301925  1.000000 -0.663558 -0.446088   \n",
       "temp_12        -0.219173 -0.435906 -0.466446 -0.663558  1.000000  0.564463   \n",
       "LS_16           0.154930  0.312942 -0.557582 -0.446088  0.564463  1.000000   \n",
       "time_dummy_20  -0.027291  0.239181  0.301925  1.000000 -0.663558 -0.446088   \n",
       "scale_dummy_21 -0.037391  0.002457  0.129502  0.366940 -0.272031 -0.244206   \n",
       "\n",
       "                time_dummy_20  scale_dummy_21  \n",
       "acid_mn_2           -0.261984        0.074274  \n",
       "acid_mp_3           -0.218166       -0.065844  \n",
       "acid_pdi_4          -0.285430       -0.154532  \n",
       "acid_ls_5           -0.116663       -0.295754  \n",
       "scale_6              0.301639        0.808958  \n",
       "eda_7               -0.027291       -0.037391  \n",
       "edc_8                0.239181        0.002457  \n",
       "nhs_9                0.301925        0.129502  \n",
       "time_10              1.000000        0.366940  \n",
       "temp_12             -0.663558       -0.272031  \n",
       "LS_16               -0.446088       -0.244206  \n",
       "time_dummy_20        1.000000        0.366940  \n",
       "scale_dummy_21       0.366940        1.000000  "
      ]
     },
     "execution_count": 4,
     "metadata": {},
     "output_type": "execute_result"
    }
   ],
   "source": [
    "corrmat = subdf.corr()\n",
    "corrmat.to_csv('corr.csv')\n",
    "corrmat"
   ]
  },
  {
   "cell_type": "code",
   "execution_count": 5,
   "metadata": {},
   "outputs": [
    {
     "name": "stdout",
     "output_type": "stream",
     "text": [
      "<class 'pandas.core.frame.DataFrame'>\n",
      "RangeIndex: 129 entries, 0 to 128\n",
      "Data columns (total 13 columns):\n",
      " #   Column          Non-Null Count  Dtype  \n",
      "---  ------          --------------  -----  \n",
      " 0   acid_mn_2       129 non-null    float64\n",
      " 1   acid_mp_3       129 non-null    float64\n",
      " 2   acid_pdi_4      129 non-null    float64\n",
      " 3   acid_ls_5       129 non-null    float64\n",
      " 4   scale_6         129 non-null    int64  \n",
      " 5   eda_7           129 non-null    int64  \n",
      " 6   edc_8           129 non-null    int64  \n",
      " 7   nhs_9           129 non-null    int64  \n",
      " 8   time_10         129 non-null    int64  \n",
      " 9   temp_12         129 non-null    int64  \n",
      " 10  LS_16           129 non-null    float64\n",
      " 11  time_dummy_20   129 non-null    int64  \n",
      " 12  scale_dummy_21  129 non-null    int64  \n",
      "dtypes: float64(5), int64(8)\n",
      "memory usage: 13.2 KB\n",
      "None\n"
     ]
    },
    {
     "data": {
      "image/png": "[encoded data removed]",
      "text/plain": [
       "<Figure size 432x288 with 1 Axes>"
      ]
     },
     "metadata": {
      "needs_background": "light"
     },
     "output_type": "display_data"
    }
   ],
   "source": [
    "print(subdf.info())\n",
    "seaborn.boxplot(data =subdf, orient = 'h')\n",
    "plt.show()"
   ]
  },
  {
   "cell_type": "code",
   "execution_count": 6,
   "metadata": {},
   "outputs": [
    {
     "data": {
      "image/png": "[encoded data removed]",
      "text/plain": [
       "<Figure size 432x288 with 2 Axes>"
      ]
     },
     "metadata": {
      "needs_background": "light"
     },
     "output_type": "display_data"
    }
   ],
   "source": [
    "core_matrix = subdf.corr() \n",
    "seaborn.heatmap(core_matrix, cmap='gist_earth')\n",
    "plt.show()"
   ]
  },
  {
   "cell_type": "code",
   "execution_count": 7,
   "metadata": {},
   "outputs": [],
   "source": [
    "models = ['Linear Regression', 'XGBoost','SVM']\n",
    "filenames = []\n",
    "results=[]\n",
    "scores = []\n",
    "c = subdf.take([1,3,6,9,11,12],axis=1)"
   ]
  },
  {
   "cell_type": "markdown",
   "metadata": {},
   "source": [
    "## Define function to evaluate model performance "
   ]
  },
  {
   "cell_type": "code",
   "execution_count": 8,
   "metadata": {},
   "outputs": [],
   "source": [
    "def regression_results(name, y_test, y_pred):\n",
    "    explained_variance=metrics.explained_variance_score(y_test, y_pred)\n",
    "    mean_absolute_error=metrics.mean_absolute_error(y_test, y_pred) \n",
    "    mse=metrics.mean_squared_error(y_test, y_pred) \n",
    "    mean_squared_log_error=metrics.mean_squared_log_error(y_test, y_pred)\n",
    "    median_absolute_error=metrics.median_absolute_error(y_test, y_pred)\n",
    "    r2=metrics.r2_score(y_test, y_pred)\n",
    "    print('explained_variance: ', round(explained_variance,4))    \n",
    "    print('mean_squared_log_error: ', round(mean_squared_log_error,4))\n",
    "    print('r2: ', round(r2,4))\n",
    "    print('MAE: ', round(mean_absolute_error,4))\n",
    "    print('MSE: ', round(mse,4))\n",
    "    print('RMSE: ', round(np.sqrt(mse),4))\n",
    "    return name, r2, np.sqrt(mse), mean_absolute_error"
   ]
  },
  {
   "cell_type": "markdown",
   "metadata": {},
   "source": [
    "## Model 1: Simple linear regression"
   ]
  },
  {
   "cell_type": "code",
   "execution_count": 9,
   "metadata": {},
   "outputs": [],
   "source": [
    "regr_params = [{'fit_intercept':[True, False],\n",
    "              'normalize':[True, False],\n",
    "              }]\n",
    "\n",
    "m1 = GridSearchCV(LinearRegression(), param_grid=regr_params, n_jobs=-1, cv=5, verbose=5, scoring='neg_mean_squared_error')\n",
    "\n",
    "X = np.array(subdf.take([1,3,6,9,11,12],axis=1))\n",
    "y = np.ravel(subdf.take([10],axis=1))\n",
    "\n",
    "\n",
    "X_train1, X_test, y_train1, y_test = train_test_split(X,y, test_size=0.2, random_state=4296)"
   ]
  },
  {
   "cell_type": "markdown",
   "metadata": {},
   "source": [
    "## SMOTE algorithm to refine missing data"
   ]
  },
  {
   "cell_type": "code",
   "execution_count": 10,
   "metadata": {},
   "outputs": [
    {
     "name": "stderr",
     "output_type": "stream",
     "text": [
      "dist_matrix: 100%|######################################################################| 8/8 [00:00<00:00, 616.92it/s]\n",
      "synth_matrix: 100%|#####################################################################| 8/8 [00:00<00:00, 140.73it/s]\n",
      "r_index: 100%|##########################################################################| 6/6 [00:00<00:00, 601.66it/s]\n"
     ]
    },
    {
     "name": "stdout",
     "output_type": "stream",
     "text": [
      "     acid_mp_3   acid_ls_5       edc_8    temp_12  time_dummy_20   scale_6  \\\n",
      "69  109.000000  220.000000  300.000000  20.000000       0.000000  0.000000   \n",
      "5   108.000000  220.000000  500.000000  20.000000       0.000000  0.000000   \n",
      "91  103.379000  190.710000  500.000000  20.000000       1.000000  1.000000   \n",
      "96  103.379000  190.710000  700.000000  20.000000       0.000000  0.000000   \n",
      "49  108.000000  220.000000  500.000000  12.000000       0.000000  0.000000   \n",
      "..         ...         ...         ...        ...            ...       ...   \n",
      "57   97.253570  175.092928  401.573031   3.893935       1.005038  0.000000   \n",
      "58  108.958828  220.950611   98.432556  19.961153       0.000000  0.003155   \n",
      "59   90.008552  103.543332  201.594470   3.961437       0.000000  0.000000   \n",
      "60  100.254974  196.302143  296.649043   3.811150       0.989748  0.002575   \n",
      "61   91.764744  151.000000  175.209296  14.958141       0.000000  0.000000   \n",
      "\n",
      "         LS_16  \n",
      "69  169.000000  \n",
      "5   173.000000  \n",
      "91  174.510000  \n",
      "96  177.080000  \n",
      "49  178.000000  \n",
      "..         ...  \n",
      "57   79.397919  \n",
      "58   58.450771  \n",
      "59   31.397890  \n",
      "60   66.371906  \n",
      "61   67.502079  \n",
      "\n",
      "[182 rows x 7 columns]\n"
     ]
    },
    {
     "data": {
      "image/png": "[encoded data removed]",
      "text/plain": [
       "<Figure size 432x288 with 1 Axes>"
      ]
     },
     "metadata": {
      "needs_background": "light"
     },
     "output_type": "display_data"
    },
    {
     "name": "stdout",
     "output_type": "stream",
     "text": [
      "(103, 6) (182, 7)\n"
     ]
    },
    {
     "data": {
      "image/png": "[encoded data removed]",
      "text/plain": [
       "<Figure size 432x288 with 1 Axes>"
      ]
     },
     "metadata": {
      "needs_background": "light"
     },
     "output_type": "display_data"
    }
   ],
   "source": [
    "\n",
    "smote = pd.DataFrame(np.column_stack((X_train1,y_train1)), columns=['acid_mp_3','acid_ls_5','edc_8','temp_12','time_dummy_20','scale_6','LS_16'])\n",
    "LS_smogn = smogn.smoter(\n",
    "            data = smote,\n",
    "            y = 'LS_16',\n",
    "            k=9,\n",
    "            samp_method='extreme',\n",
    "            rel_thres = 0.8,        ## positive real number (0 < R < 1)\n",
    "            rel_method = 'auto',      ## string ('auto' or 'manual')\n",
    "            rel_xtrm_type = 'both', ## string ('low' or 'both' or 'high')\n",
    "            rel_coef = 0.4)\n",
    "print(LS_smogn)\n",
    "\n",
    "plt.hist(subdf['LS_16'])\n",
    "plt.show()\n",
    "plt.hist(LS_smogn['LS_16'])\n",
    "\n",
    "print(X_train1.shape,LS_smogn.shape)"
   ]
  },
  {
   "cell_type": "code",
   "execution_count": 11,
   "metadata": {},
   "outputs": [],
   "source": [
    "y_train1 = LS_smogn[['LS_16']]\n",
    "LS_smogn=LS_smogn.drop(['LS_16'],axis=1)"
   ]
  },
  {
   "cell_type": "code",
   "execution_count": 12,
   "metadata": {},
   "outputs": [
    {
     "data": {
      "text/plain": [
       "numpy.ndarray"
      ]
     },
     "execution_count": 12,
     "metadata": {},
     "output_type": "execute_result"
    }
   ],
   "source": [
    "type(X_train1)"
   ]
  },
  {
   "cell_type": "code",
   "execution_count": 13,
   "metadata": {},
   "outputs": [
    {
     "data": {
      "text/plain": [
       "numpy.ndarray"
      ]
     },
     "execution_count": 13,
     "metadata": {},
     "output_type": "execute_result"
    }
   ],
   "source": [
    "train2 = np.array(LS_smogn)\n",
    "type(train2)"
   ]
  },
  {
   "cell_type": "code",
   "execution_count": 14,
   "metadata": {},
   "outputs": [
    {
     "name": "stdout",
     "output_type": "stream",
     "text": [
      "Fitting 5 folds for each of 4 candidates, totalling 20 fits\n"
     ]
    },
    {
     "name": "stderr",
     "output_type": "stream",
     "text": [
      "[Parallel(n_jobs=-1)]: Using backend LokyBackend with 8 concurrent workers.\n",
      "[Parallel(n_jobs=-1)]: Done   2 tasks      | elapsed:    2.2s\n",
      "[Parallel(n_jobs=-1)]: Done  10 out of  20 | elapsed:    2.3s remaining:    2.3s\n",
      "[Parallel(n_jobs=-1)]: Done  15 out of  20 | elapsed:    2.3s remaining:    0.7s\n",
      "[Parallel(n_jobs=-1)]: Done  20 out of  20 | elapsed:    2.3s remaining:    0.0s\n",
      "[Parallel(n_jobs=-1)]: Done  20 out of  20 | elapsed:    2.3s finished\n"
     ]
    }
   ],
   "source": [
    "\n",
    "m1.fit(train2, y_train1)\n",
    "\n",
    "y_pred_train = m1.predict(train2)\n",
    "#y_pred = m1.predict(X_val)\n",
    "y_pred_2 = m1.predict(X_test)\n",
    "\n",
    "res0 = np.sqrt(mean_squared_error(y_pred_train, y_train1))\n",
    "#res1 = np.sqrt(mean_squared_error(y_val, y_pred))\n",
    "res2 = np.sqrt(mean_squared_error(y_test, y_pred_2))"
   ]
  },
  {
   "cell_type": "code",
   "execution_count": 15,
   "metadata": {},
   "outputs": [
    {
     "name": "stdout",
     "output_type": "stream",
     "text": [
      "RMSE TRAINING: 18.977697\n",
      "RMSE testing: 20.356085\n"
     ]
    }
   ],
   "source": [
    "print('RMSE TRAINING: %.6f' % res0)\n",
    "#print('RMSE validation: %.6f' % res1)\n",
    "print('RMSE testing: %.6f' % res2)"
   ]
  },
  {
   "cell_type": "code",
   "execution_count": 16,
   "metadata": {},
   "outputs": [
    {
     "data": {
      "text/plain": [
       "(array([ 2.,  3.,  5., 33., 24., 17., 12., 16., 16.,  1.]),\n",
       " array([ 21. ,  40.8,  60.6,  80.4, 100.2, 120. , 139.8, 159.6, 179.4,\n",
       "        199.2, 219. ]),\n",
       " <BarContainer object of 10 artists>)"
      ]
     },
     "execution_count": 16,
     "metadata": {},
     "output_type": "execute_result"
    },
    {
     "data": {
      "image/png": "[encoded data removed]",
      "text/plain": [
       "<Figure size 432x288 with 1 Axes>"
      ]
     },
     "metadata": {
      "needs_background": "light"
     },
     "output_type": "display_data"
    }
   ],
   "source": [
    "plt.hist(subdf.LS_16)"
   ]
  },
  {
   "cell_type": "code",
   "execution_count": 17,
   "metadata": {},
   "outputs": [
    {
     "data": {
      "text/plain": [
       "(array([1., 2., 6., 5., 3., 2., 1., 5., 0., 1.]),\n",
       " array([ 43. ,  60.6,  78.2,  95.8, 113.4, 131. , 148.6, 166.2, 183.8,\n",
       "        201.4, 219. ]),\n",
       " <BarContainer object of 10 artists>)"
      ]
     },
     "execution_count": 17,
     "metadata": {},
     "output_type": "execute_result"
    },
    {
     "data": {
      "image/png": "[encoded data removed]",
      "text/plain": [
       "<Figure size 432x288 with 1 Axes>"
      ]
     },
     "metadata": {
      "needs_background": "light"
     },
     "output_type": "display_data"
    }
   ],
   "source": [
    "plt.hist(y_test)"
   ]
  },
  {
   "cell_type": "code",
   "execution_count": 18,
   "metadata": {},
   "outputs": [
    {
     "data": {
      "text/plain": [
       "(array([1., 2., 6., 3., 2., 5., 3., 0., 2., 2.]),\n",
       " array([ 43.87117087,  60.29928195,  76.72739303,  93.15550412,\n",
       "        109.5836152 , 126.01172629, 142.43983737, 158.86794845,\n",
       "        175.29605954, 191.72417062, 208.15228171]),\n",
       " <BarContainer object of 10 artists>)"
      ]
     },
     "execution_count": 18,
     "metadata": {},
     "output_type": "execute_result"
    },
    {
     "data": {
      "image/png": "[encoded data removed]",
      "text/plain": [
       "<Figure size 432x288 with 1 Axes>"
      ]
     },
     "metadata": {
      "needs_background": "light"
     },
     "output_type": "display_data"
    }
   ],
   "source": [
    "plt.hist(y_pred_2)"
   ]
  },
  {
   "cell_type": "code",
   "execution_count": 19,
   "metadata": {},
   "outputs": [
    {
     "data": {
      "text/plain": [
       "LinearRegression()"
      ]
     },
     "execution_count": 19,
     "metadata": {},
     "output_type": "execute_result"
    }
   ],
   "source": [
    "m1.best_estimator_"
   ]
  },
  {
   "cell_type": "code",
   "execution_count": 20,
   "metadata": {},
   "outputs": [
    {
     "name": "stdout",
     "output_type": "stream",
     "text": [
      "explained_variance:  0.7578\n",
      "mean_squared_log_error:  0.0232\n",
      "r2:  0.7569\n",
      "MAE:  15.8914\n",
      "MSE:  414.3702\n",
      "RMSE:  20.3561\n"
     ]
    }
   ],
   "source": [
    "scores.append(regression_results(models[0],y_pred_2,y_test))"
   ]
  },
  {
   "cell_type": "code",
   "execution_count": 21,
   "metadata": {},
   "outputs": [
    {
     "name": "stdout",
     "output_type": "stream",
     "text": [
      "[[100 196 200   4   1   1]\n",
      " [100 196 250   4   1   1]\n",
      " [100 196 300   4   1   1]\n",
      " [100 196 350   4   1   1]\n",
      " [100 196 400   4   1   1]\n",
      " [100 196 450   4   1   1]\n",
      " [100 196 500   4   1   1]\n",
      " [100 196 550   4   1   1]\n",
      " [100 196 600   4   1   1]\n",
      " [100 196 650   4   1   1]\n",
      " [100 196 700   4   1   1]\n",
      " [100 196 750   4   1   1]\n",
      " [100 196 800   4   1   1]]\n",
      "\n",
      " [ 49.83144812  59.31417428  68.79690044  78.2796266   87.76235276\n",
      "  97.24507891 106.72780507 116.21053123 125.69325739 135.17598355\n",
      " 144.65870971 154.14143586 163.62416202]\n"
     ]
    }
   ],
   "source": [
    "filenames.append('m1.sav')\n",
    "pickle.dump(m1, open(filenames[0], 'wb'))\n",
    " \n",
    "# load the model from disk\n",
    "loaded_model = pickle.load(open(filenames[0], 'rb'))\n",
    "new = np.array(pd.read_csv(r'test.csv'))\n",
    "result0 = loaded_model.predict(new)\n",
    "results.append(np.squeeze(result0))\n",
    "print(new)\n",
    "print('\\n', np.squeeze(result0))"
   ]
  },
  {
   "cell_type": "markdown",
   "metadata": {},
   "source": [
    "## Model 2: XGBoost"
   ]
  },
  {
   "cell_type": "markdown",
   "metadata": {},
   "source": [
    "{'max_depth': 1,\n",
    " 'min_child_weight': 1,\n",
    " 'eta': 0.3,\n",
    " 'subsample': 0.9,\n",
    " 'colsample_bytree': 0.8,\n",
    " 'objective': 'reg:squarederror',\n",
    " 'eval_metric': 'rmse',\n",
    " 'validate_parameters': 1}"
   ]
  },
  {
   "cell_type": "code",
   "execution_count": 22,
   "metadata": {},
   "outputs": [],
   "source": [
    "xgboost_params_all = [{\n",
    "                    'learning_rate':np.arange(0.15, 0.31, 0.01),\n",
    "                    'max_depth':[1],\n",
    "                    'min_child_weight':[1],\n",
    "                    'colsample_bytree':[0.8],\n",
    "                    'subsample':[0.9],\n",
    "                    'objective':['reg:squarederror'],\n",
    "                    'eval_metric':['rmse'],\n",
    "                    'eta':[0.3],\n",
    "                    'validate_parameters':[1],\n",
    "                    'n_estimators':np.arange(350,500,10),\n",
    "                     }]\n",
    "m2 = GridSearchCV(XGBRegressor(), param_grid=xgboost_params_all, n_jobs=-1, cv=5, verbose=2)"
   ]
  },
  {
   "cell_type": "code",
   "execution_count": 23,
   "metadata": {},
   "outputs": [
    {
     "name": "stdout",
     "output_type": "stream",
     "text": [
      "Fitting 5 folds for each of 240 candidates, totalling 1200 fits\n"
     ]
    },
    {
     "name": "stderr",
     "output_type": "stream",
     "text": [
      "[Parallel(n_jobs=-1)]: Using backend LokyBackend with 8 concurrent workers.\n",
      "[Parallel(n_jobs=-1)]: Done  25 tasks      | elapsed:    0.9s\n",
      "[Parallel(n_jobs=-1)]: Done 146 tasks      | elapsed:    5.7s\n",
      "[Parallel(n_jobs=-1)]: Done 349 tasks      | elapsed:   13.1s\n",
      "[Parallel(n_jobs=-1)]: Done 632 tasks      | elapsed:   23.0s\n",
      "[Parallel(n_jobs=-1)]: Done 997 tasks      | elapsed:   35.1s\n",
      "[Parallel(n_jobs=-1)]: Done 1200 out of 1200 | elapsed:   41.7s finished\n"
     ]
    }
   ],
   "source": [
    "m2.fit(train2,y_train1)\n",
    "\n",
    "#y_pred_3 = m2.predict(X_val)\n",
    "y_pred_4 = m2.predict(X_test)\n",
    "\n",
    "#res3 = np.sqrt(mean_squared_error(y_val, y_pred_3))\n",
    "res4 = np.sqrt(mean_squared_error(y_test, y_pred_4))"
   ]
  },
  {
   "cell_type": "code",
   "execution_count": 24,
   "metadata": {},
   "outputs": [
    {
     "name": "stdout",
     "output_type": "stream",
     "text": [
      "RMSE testing: 14.853301\n"
     ]
    },
    {
     "name": "stderr",
     "output_type": "stream",
     "text": [
      "C:\\ProgramData\\Anaconda3\\lib\\site-packages\\seaborn\\_decorators.py:36: FutureWarning: Pass the following variables as keyword args: x, y. From version 0.12, the only valid positional argument will be `data`, and passing other arguments without an explicit keyword will result in an error or misinterpretation.\n",
      "  warnings.warn(\n"
     ]
    },
    {
     "data": {
      "text/plain": [
       "<AxesSubplot:>"
      ]
     },
     "execution_count": 24,
     "metadata": {},
     "output_type": "execute_result"
    },
    {
     "data": {
      "image/png": "[encoded data removed]",
      "text/plain": [
       "<Figure size 432x288 with 1 Axes>"
      ]
     },
     "metadata": {
      "needs_background": "light"
     },
     "output_type": "display_data"
    }
   ],
   "source": [
    "#print('RMSE validation: %.6f' % res3)\n",
    "print('RMSE testing: %.6f' % res4)\n",
    "#seaborn.residplot(y_val,y_pred_3)\n",
    "plt.show()\n",
    "seaborn.residplot(y_test,y_pred_4)"
   ]
  },
  {
   "cell_type": "code",
   "execution_count": 25,
   "metadata": {},
   "outputs": [
    {
     "data": {
      "text/plain": [
       "(array([ 1.,  0.,  0., 10.,  2.,  4.,  3.,  3.,  0.,  3.]),\n",
       " array([ 42.58724 ,  57.257195,  71.927155,  86.59711 , 101.26707 ,\n",
       "        115.93702 , 130.60698 , 145.27693 , 159.94688 , 174.61685 ,\n",
       "        189.2868  ], dtype=float32),\n",
       " <BarContainer object of 10 artists>)"
      ]
     },
     "execution_count": 25,
     "metadata": {},
     "output_type": "execute_result"
    },
    {
     "data": {
      "image/png": "[encoded data removed]",
      "text/plain": [
       "<Figure size 432x288 with 1 Axes>"
      ]
     },
     "metadata": {
      "needs_background": "light"
     },
     "output_type": "display_data"
    }
   ],
   "source": [
    "plt.hist(y_pred_4)"
   ]
  },
  {
   "cell_type": "code",
   "execution_count": 26,
   "metadata": {},
   "outputs": [
    {
     "data": {
      "text/plain": [
       "(array([1., 2., 6., 5., 3., 2., 1., 5., 0., 1.]),\n",
       " array([ 43. ,  60.6,  78.2,  95.8, 113.4, 131. , 148.6, 166.2, 183.8,\n",
       "        201.4, 219. ]),\n",
       " <BarContainer object of 10 artists>)"
      ]
     },
     "execution_count": 26,
     "metadata": {},
     "output_type": "execute_result"
    },
    {
     "data": {
      "image/png": "[encoded data removed]",
      "text/plain": [
       "<Figure size 432x288 with 1 Axes>"
      ]
     },
     "metadata": {
      "needs_background": "light"
     },
     "output_type": "display_data"
    }
   ],
   "source": [
    "plt.hist(y_test)"
   ]
  },
  {
   "cell_type": "code",
   "execution_count": 27,
   "metadata": {},
   "outputs": [
    {
     "name": "stdout",
     "output_type": "stream",
     "text": [
      "explained_variance:  0.8203\n",
      "mean_squared_log_error:  0.0157\n",
      "r2:  0.8182\n",
      "MAE:  11.1638\n",
      "MSE:  220.6206\n",
      "RMSE:  14.8533\n"
     ]
    }
   ],
   "source": [
    "scores.append(regression_results(models[1],np.abs(y_pred_4),y_test))"
   ]
  },
  {
   "cell_type": "code",
   "execution_count": 28,
   "metadata": {},
   "outputs": [
    {
     "name": "stdout",
     "output_type": "stream",
     "text": [
      "[[100 196 200   4   1   1]\n",
      " [100 196 250   4   1   1]\n",
      " [100 196 300   4   1   1]\n",
      " [100 196 350   4   1   1]\n",
      " [100 196 400   4   1   1]\n",
      " [100 196 450   4   1   1]\n",
      " [100 196 500   4   1   1]\n",
      " [100 196 550   4   1   1]\n",
      " [100 196 600   4   1   1]\n",
      " [100 196 650   4   1   1]\n",
      " [100 196 700   4   1   1]\n",
      " [100 196 750   4   1   1]\n",
      " [100 196 800   4   1   1]]\n",
      "\n",
      " [ 40.882526  58.716442  80.963295  86.06068   91.86607  101.99075\n",
      " 106.6033   107.50154  109.57639  113.53199  112.07389  129.42404\n",
      " 129.42404 ]\n"
     ]
    },
    {
     "name": "stderr",
     "output_type": "stream",
     "text": [
      "C:\\ProgramData\\Anaconda3\\lib\\site-packages\\xgboost\\data.py:112: UserWarning: Use subset (sliced data) of np.ndarray is not recommended because it will generate extra copies and increase memory consumption\n",
      "  warnings.warn(\n"
     ]
    }
   ],
   "source": [
    "filenames.append('m2.sav')\n",
    "pickle.dump(m2, open(filenames[1], 'wb'))\n",
    " \n",
    "# load the model from disk\n",
    "loaded_model = pickle.load(open(filenames[1], 'rb'))\n",
    "new = np.array(pd.read_csv(r'test.csv'))\n",
    "result1 = loaded_model.predict(new)\n",
    "results.append(result1)\n",
    "print(new)\n",
    "print('\\n', result1)"
   ]
  },
  {
   "cell_type": "code",
   "execution_count": 29,
   "metadata": {},
   "outputs": [
    {
     "data": {
      "text/plain": [
       "<BarContainer object of 6 artists>"
      ]
     },
     "execution_count": 29,
     "metadata": {},
     "output_type": "execute_result"
    },
    {
     "data": {
      "image/png": "[encoded data removed]",
      "text/plain": [
       "<Figure size 432x288 with 1 Axes>"
      ]
     },
     "metadata": {
      "needs_background": "light"
     },
     "output_type": "display_data"
    }
   ],
   "source": [
    "plt.barh(c.columns, m2.best_estimator_.feature_importances_)"
   ]
  },
  {
   "cell_type": "markdown",
   "metadata": {},
   "source": [
    "## Model 3: Support Vector Machine"
   ]
  },
  {
   "cell_type": "code",
   "execution_count": 30,
   "metadata": {},
   "outputs": [],
   "source": [
    "svm_params = [{'C': [5],\n",
    "              'kernel': [\"linear\"],\n",
    "            'cache_size': [200],\n",
    "           'gamma': ['auto'],\n",
    "           'degree':[x for x in range(1,5,1)],              \n",
    "           }]\n",
    "m3 = GridSearchCV(SVR(), param_grid=svm_params, n_jobs=-1, cv=5, verbose=2)"
   ]
  },
  {
   "cell_type": "code",
   "execution_count": 31,
   "metadata": {},
   "outputs": [
    {
     "name": "stderr",
     "output_type": "stream",
     "text": [
      "[Parallel(n_jobs=-1)]: Using backend LokyBackend with 8 concurrent workers.\n"
     ]
    },
    {
     "name": "stdout",
     "output_type": "stream",
     "text": [
      "Fitting 5 folds for each of 4 candidates, totalling 20 fits\n"
     ]
    },
    {
     "name": "stderr",
     "output_type": "stream",
     "text": [
      "[Parallel(n_jobs=-1)]: Done  16 out of  20 | elapsed:    6.1s remaining:    1.5s\n",
      "[Parallel(n_jobs=-1)]: Done  20 out of  20 | elapsed:    7.1s finished\n",
      "C:\\ProgramData\\Anaconda3\\lib\\site-packages\\sklearn\\utils\\validation.py:72: DataConversionWarning: A column-vector y was passed when a 1d array was expected. Please change the shape of y to (n_samples, ), for example using ravel().\n",
      "  return f(**kwargs)\n"
     ]
    }
   ],
   "source": [
    "m3.fit(train2,y_train1)\n",
    "\n",
    "#y_pred_5 = m3.predict(X_val)\n",
    "y_pred_6 = m3.predict(X_test)\n",
    "\n",
    "#res5 = np.sqrt(mean_squared_error(y_val, y_pred_5))\n",
    "res6 = np.sqrt(mean_squared_error(y_test, y_pred_6))"
   ]
  },
  {
   "cell_type": "code",
   "execution_count": 32,
   "metadata": {},
   "outputs": [
    {
     "name": "stdout",
     "output_type": "stream",
     "text": [
      "RMSE testing: 21.318732\n"
     ]
    },
    {
     "name": "stderr",
     "output_type": "stream",
     "text": [
      "C:\\ProgramData\\Anaconda3\\lib\\site-packages\\seaborn\\_decorators.py:36: FutureWarning: Pass the following variables as keyword args: x, y. From version 0.12, the only valid positional argument will be `data`, and passing other arguments without an explicit keyword will result in an error or misinterpretation.\n",
      "  warnings.warn(\n"
     ]
    },
    {
     "data": {
      "text/plain": [
       "<AxesSubplot:>"
      ]
     },
     "execution_count": 32,
     "metadata": {},
     "output_type": "execute_result"
    },
    {
     "data": {
      "image/png": "[encoded data removed]",
      "text/plain": [
       "<Figure size 432x288 with 1 Axes>"
      ]
     },
     "metadata": {
      "needs_background": "light"
     },
     "output_type": "display_data"
    }
   ],
   "source": [
    "#print('RMSE validation: %.6f' % res5)\n",
    "print('RMSE testing: %.6f' % res6)\n",
    "#seaborn.residplot(y_val,y_pred_5)\n",
    "plt.show()\n",
    "seaborn.residplot(y_test,y_pred_6)"
   ]
  },
  {
   "cell_type": "code",
   "execution_count": 33,
   "metadata": {},
   "outputs": [
    {
     "name": "stdout",
     "output_type": "stream",
     "text": [
      "explained_variance:  0.7452\n",
      "mean_squared_log_error:  0.0253\n",
      "r2:  0.7444\n",
      "MAE:  16.3486\n",
      "MSE:  454.4883\n",
      "RMSE:  21.3187\n"
     ]
    }
   ],
   "source": [
    "scores.append(regression_results(models[2],y_pred_6,y_test))"
   ]
  },
  {
   "cell_type": "code",
   "execution_count": 34,
   "metadata": {},
   "outputs": [
    {
     "name": "stdout",
     "output_type": "stream",
     "text": [
      "[[100 196 200   4   1   1]\n",
      " [100 196 250   4   1   1]\n",
      " [100 196 300   4   1   1]\n",
      " [100 196 350   4   1   1]\n",
      " [100 196 400   4   1   1]\n",
      " [100 196 450   4   1   1]\n",
      " [100 196 500   4   1   1]\n",
      " [100 196 550   4   1   1]\n",
      " [100 196 600   4   1   1]\n",
      " [100 196 650   4   1   1]\n",
      " [100 196 700   4   1   1]\n",
      " [100 196 750   4   1   1]\n",
      " [100 196 800   4   1   1]]\n",
      "\n",
      " [ 46.1745879   55.89000921  65.60543053  75.32085185  85.03627316\n",
      "  94.75169448 104.4671158  114.18253711 123.89795843 133.61337975\n",
      " 143.32880106 153.04422237 162.75964369]\n"
     ]
    }
   ],
   "source": [
    "filenames.append('m3.sav')\n",
    "pickle.dump(m3, open(filenames[2], 'wb'))\n",
    " \n",
    "# load the model from disk\n",
    "loaded_model = pickle.load(open(filenames[2], 'rb'))\n",
    "new = np.array(pd.read_csv(r'test.csv'))\n",
    "result2 = loaded_model.predict(new)\n",
    "results.append(result2)\n",
    "print(new)\n",
    "print('\\n', result2)"
   ]
  },
  {
   "cell_type": "code",
   "execution_count": 35,
   "metadata": {},
   "outputs": [
    {
     "data": {
      "text/plain": [
       "[('Linear Regression',\n",
       "  0.7569474472459052,\n",
       "  20.356085379503252,\n",
       "  15.891385884644109),\n",
       " ('XGBoost', 0.8181737069343615, 14.853301030461719, 11.163837591317984),\n",
       " ('SVM', 0.744442022395928, 21.318731693294836, 16.348632795649323)]"
      ]
     },
     "execution_count": 35,
     "metadata": {},
     "output_type": "execute_result"
    }
   ],
   "source": [
    "scores"
   ]
  },
  {
   "cell_type": "code",
   "execution_count": 36,
   "metadata": {},
   "outputs": [
    {
     "data": {
      "text/plain": [
       "18.842706034419937"
      ]
     },
     "execution_count": 36,
     "metadata": {},
     "output_type": "execute_result"
    }
   ],
   "source": [
    "(scores[0][2]+scores[1][2]+scores[2][2])/3"
   ]
  },
  {
   "cell_type": "code",
   "execution_count": 37,
   "metadata": {},
   "outputs": [
    {
     "data": {
      "text/plain": [
       "[array([ 49.83144812,  59.31417428,  68.79690044,  78.2796266 ,\n",
       "         87.76235276,  97.24507891, 106.72780507, 116.21053123,\n",
       "        125.69325739, 135.17598355, 144.65870971, 154.14143586,\n",
       "        163.62416202]),\n",
       " array([ 40.882526,  58.716442,  80.963295,  86.06068 ,  91.86607 ,\n",
       "        101.99075 , 106.6033  , 107.50154 , 109.57639 , 113.53199 ,\n",
       "        112.07389 , 129.42404 , 129.42404 ], dtype=float32),\n",
       " array([ 46.1745879 ,  55.89000921,  65.60543053,  75.32085185,\n",
       "         85.03627316,  94.75169448, 104.4671158 , 114.18253711,\n",
       "        123.89795843, 133.61337975, 143.32880106, 153.04422237,\n",
       "        162.75964369])]"
      ]
     },
     "execution_count": 37,
     "metadata": {},
     "output_type": "execute_result"
    }
   ],
   "source": [
    "results"
   ]
  },
  {
   "cell_type": "code",
   "execution_count": 38,
   "metadata": {},
   "outputs": [
    {
     "data": {
      "text/html": [
       "<div>\n",
       "<style scoped>\n",
       "    .dataframe tbody tr th:only-of-type {\n",
       "        vertical-align: middle;\n",
       "    }\n",
       "\n",
       "    .dataframe tbody tr th {\n",
       "        vertical-align: top;\n",
       "    }\n",
       "\n",
       "    .dataframe thead th {\n",
       "        text-align: right;\n",
       "    }\n",
       "</style>\n",
       "<table border=\"1\" class=\"dataframe\">\n",
       "  <thead>\n",
       "    <tr style=\"text-align: right;\">\n",
       "      <th></th>\n",
       "      <th>mp</th>\n",
       "      <th>acid_ls</th>\n",
       "      <th>edc</th>\n",
       "      <th>temp</th>\n",
       "      <th>time</th>\n",
       "      <th>scale</th>\n",
       "    </tr>\n",
       "  </thead>\n",
       "  <tbody>\n",
       "    <tr>\n",
       "      <th>0</th>\n",
       "      <td>100</td>\n",
       "      <td>196</td>\n",
       "      <td>200</td>\n",
       "      <td>4</td>\n",
       "      <td>1</td>\n",
       "      <td>1</td>\n",
       "    </tr>\n",
       "    <tr>\n",
       "      <th>1</th>\n",
       "      <td>100</td>\n",
       "      <td>196</td>\n",
       "      <td>250</td>\n",
       "      <td>4</td>\n",
       "      <td>1</td>\n",
       "      <td>1</td>\n",
       "    </tr>\n",
       "    <tr>\n",
       "      <th>2</th>\n",
       "      <td>100</td>\n",
       "      <td>196</td>\n",
       "      <td>300</td>\n",
       "      <td>4</td>\n",
       "      <td>1</td>\n",
       "      <td>1</td>\n",
       "    </tr>\n",
       "    <tr>\n",
       "      <th>3</th>\n",
       "      <td>100</td>\n",
       "      <td>196</td>\n",
       "      <td>350</td>\n",
       "      <td>4</td>\n",
       "      <td>1</td>\n",
       "      <td>1</td>\n",
       "    </tr>\n",
       "    <tr>\n",
       "      <th>4</th>\n",
       "      <td>100</td>\n",
       "      <td>196</td>\n",
       "      <td>400</td>\n",
       "      <td>4</td>\n",
       "      <td>1</td>\n",
       "      <td>1</td>\n",
       "    </tr>\n",
       "    <tr>\n",
       "      <th>5</th>\n",
       "      <td>100</td>\n",
       "      <td>196</td>\n",
       "      <td>450</td>\n",
       "      <td>4</td>\n",
       "      <td>1</td>\n",
       "      <td>1</td>\n",
       "    </tr>\n",
       "    <tr>\n",
       "      <th>6</th>\n",
       "      <td>100</td>\n",
       "      <td>196</td>\n",
       "      <td>500</td>\n",
       "      <td>4</td>\n",
       "      <td>1</td>\n",
       "      <td>1</td>\n",
       "    </tr>\n",
       "    <tr>\n",
       "      <th>7</th>\n",
       "      <td>100</td>\n",
       "      <td>196</td>\n",
       "      <td>550</td>\n",
       "      <td>4</td>\n",
       "      <td>1</td>\n",
       "      <td>1</td>\n",
       "    </tr>\n",
       "    <tr>\n",
       "      <th>8</th>\n",
       "      <td>100</td>\n",
       "      <td>196</td>\n",
       "      <td>600</td>\n",
       "      <td>4</td>\n",
       "      <td>1</td>\n",
       "      <td>1</td>\n",
       "    </tr>\n",
       "    <tr>\n",
       "      <th>9</th>\n",
       "      <td>100</td>\n",
       "      <td>196</td>\n",
       "      <td>650</td>\n",
       "      <td>4</td>\n",
       "      <td>1</td>\n",
       "      <td>1</td>\n",
       "    </tr>\n",
       "    <tr>\n",
       "      <th>10</th>\n",
       "      <td>100</td>\n",
       "      <td>196</td>\n",
       "      <td>700</td>\n",
       "      <td>4</td>\n",
       "      <td>1</td>\n",
       "      <td>1</td>\n",
       "    </tr>\n",
       "    <tr>\n",
       "      <th>11</th>\n",
       "      <td>100</td>\n",
       "      <td>196</td>\n",
       "      <td>750</td>\n",
       "      <td>4</td>\n",
       "      <td>1</td>\n",
       "      <td>1</td>\n",
       "    </tr>\n",
       "    <tr>\n",
       "      <th>12</th>\n",
       "      <td>100</td>\n",
       "      <td>196</td>\n",
       "      <td>800</td>\n",
       "      <td>4</td>\n",
       "      <td>1</td>\n",
       "      <td>1</td>\n",
       "    </tr>\n",
       "  </tbody>\n",
       "</table>\n",
       "</div>"
      ],
      "text/plain": [
       "     mp  acid_ls  edc  temp  time  scale\n",
       "0   100      196  200     4     1      1\n",
       "1   100      196  250     4     1      1\n",
       "2   100      196  300     4     1      1\n",
       "3   100      196  350     4     1      1\n",
       "4   100      196  400     4     1      1\n",
       "5   100      196  450     4     1      1\n",
       "6   100      196  500     4     1      1\n",
       "7   100      196  550     4     1      1\n",
       "8   100      196  600     4     1      1\n",
       "9   100      196  650     4     1      1\n",
       "10  100      196  700     4     1      1\n",
       "11  100      196  750     4     1      1\n",
       "12  100      196  800     4     1      1"
      ]
     },
     "execution_count": 38,
     "metadata": {},
     "output_type": "execute_result"
    }
   ],
   "source": [
    "test = pd.read_csv(r'test.csv')\n",
    "ensemble = pd.DataFrame(data=results,columns = np.array(test.edc))\n",
    "\n",
    "test"
   ]
  },
  {
   "cell_type": "code",
   "execution_count": 39,
   "metadata": {},
   "outputs": [
    {
     "data": {
      "text/html": [
       "<div>\n",
       "<style scoped>\n",
       "    .dataframe tbody tr th:only-of-type {\n",
       "        vertical-align: middle;\n",
       "    }\n",
       "\n",
       "    .dataframe tbody tr th {\n",
       "        vertical-align: top;\n",
       "    }\n",
       "\n",
       "    .dataframe thead th {\n",
       "        text-align: right;\n",
       "    }\n",
       "</style>\n",
       "<table border=\"1\" class=\"dataframe\">\n",
       "  <thead>\n",
       "    <tr style=\"text-align: right;\">\n",
       "      <th></th>\n",
       "      <th>200</th>\n",
       "      <th>250</th>\n",
       "      <th>300</th>\n",
       "      <th>350</th>\n",
       "      <th>400</th>\n",
       "      <th>450</th>\n",
       "      <th>500</th>\n",
       "      <th>550</th>\n",
       "      <th>600</th>\n",
       "      <th>650</th>\n",
       "      <th>700</th>\n",
       "      <th>750</th>\n",
       "      <th>800</th>\n",
       "    </tr>\n",
       "  </thead>\n",
       "  <tbody>\n",
       "    <tr>\n",
       "      <th>Linear Regression</th>\n",
       "      <td>49.831448</td>\n",
       "      <td>59.314174</td>\n",
       "      <td>68.796900</td>\n",
       "      <td>78.279627</td>\n",
       "      <td>87.762353</td>\n",
       "      <td>97.245079</td>\n",
       "      <td>106.727805</td>\n",
       "      <td>116.210531</td>\n",
       "      <td>125.693257</td>\n",
       "      <td>135.175984</td>\n",
       "      <td>144.658710</td>\n",
       "      <td>154.141436</td>\n",
       "      <td>163.624162</td>\n",
       "    </tr>\n",
       "    <tr>\n",
       "      <th>XGBoost</th>\n",
       "      <td>40.882526</td>\n",
       "      <td>58.716442</td>\n",
       "      <td>80.963295</td>\n",
       "      <td>86.060677</td>\n",
       "      <td>91.866074</td>\n",
       "      <td>101.990753</td>\n",
       "      <td>106.603302</td>\n",
       "      <td>107.501541</td>\n",
       "      <td>109.576393</td>\n",
       "      <td>113.531990</td>\n",
       "      <td>112.073891</td>\n",
       "      <td>129.424042</td>\n",
       "      <td>129.424042</td>\n",
       "    </tr>\n",
       "    <tr>\n",
       "      <th>SVM</th>\n",
       "      <td>46.174588</td>\n",
       "      <td>55.890009</td>\n",
       "      <td>65.605431</td>\n",
       "      <td>75.320852</td>\n",
       "      <td>85.036273</td>\n",
       "      <td>94.751694</td>\n",
       "      <td>104.467116</td>\n",
       "      <td>114.182537</td>\n",
       "      <td>123.897958</td>\n",
       "      <td>133.613380</td>\n",
       "      <td>143.328801</td>\n",
       "      <td>153.044222</td>\n",
       "      <td>162.759644</td>\n",
       "    </tr>\n",
       "  </tbody>\n",
       "</table>\n",
       "</div>"
      ],
      "text/plain": [
       "                         200        250        300        350        400  \\\n",
       "Linear Regression  49.831448  59.314174  68.796900  78.279627  87.762353   \n",
       "XGBoost            40.882526  58.716442  80.963295  86.060677  91.866074   \n",
       "SVM                46.174588  55.890009  65.605431  75.320852  85.036273   \n",
       "\n",
       "                          450         500         550         600         650  \\\n",
       "Linear Regression   97.245079  106.727805  116.210531  125.693257  135.175984   \n",
       "XGBoost            101.990753  106.603302  107.501541  109.576393  113.531990   \n",
       "SVM                 94.751694  104.467116  114.182537  123.897958  133.613380   \n",
       "\n",
       "                          700         750         800  \n",
       "Linear Regression  144.658710  154.141436  163.624162  \n",
       "XGBoost            112.073891  129.424042  129.424042  \n",
       "SVM                143.328801  153.044222  162.759644  "
      ]
     },
     "execution_count": 39,
     "metadata": {},
     "output_type": "execute_result"
    }
   ],
   "source": [
    "ensemble.index=models\n",
    "ensemble"
   ]
  },
  {
   "cell_type": "code",
   "execution_count": 40,
   "metadata": {},
   "outputs": [
    {
     "data": {
      "text/html": [
       "<div>\n",
       "<style scoped>\n",
       "    .dataframe tbody tr th:only-of-type {\n",
       "        vertical-align: middle;\n",
       "    }\n",
       "\n",
       "    .dataframe tbody tr th {\n",
       "        vertical-align: top;\n",
       "    }\n",
       "\n",
       "    .dataframe thead th {\n",
       "        text-align: right;\n",
       "    }\n",
       "</style>\n",
       "<table border=\"1\" class=\"dataframe\">\n",
       "  <thead>\n",
       "    <tr style=\"text-align: right;\">\n",
       "      <th></th>\n",
       "      <th>mp</th>\n",
       "      <th>acid_ls</th>\n",
       "      <th>temp</th>\n",
       "      <th>time</th>\n",
       "      <th>scale</th>\n",
       "      <th>avg_prediction</th>\n",
       "    </tr>\n",
       "    <tr>\n",
       "      <th>edc</th>\n",
       "      <th></th>\n",
       "      <th></th>\n",
       "      <th></th>\n",
       "      <th></th>\n",
       "      <th></th>\n",
       "      <th></th>\n",
       "    </tr>\n",
       "  </thead>\n",
       "  <tbody>\n",
       "    <tr>\n",
       "      <th>200</th>\n",
       "      <td>100</td>\n",
       "      <td>196</td>\n",
       "      <td>4</td>\n",
       "      <td>1</td>\n",
       "      <td>1</td>\n",
       "      <td>45.629521</td>\n",
       "    </tr>\n",
       "    <tr>\n",
       "      <th>250</th>\n",
       "      <td>100</td>\n",
       "      <td>196</td>\n",
       "      <td>4</td>\n",
       "      <td>1</td>\n",
       "      <td>1</td>\n",
       "      <td>57.973542</td>\n",
       "    </tr>\n",
       "    <tr>\n",
       "      <th>300</th>\n",
       "      <td>100</td>\n",
       "      <td>196</td>\n",
       "      <td>4</td>\n",
       "      <td>1</td>\n",
       "      <td>1</td>\n",
       "      <td>71.788542</td>\n",
       "    </tr>\n",
       "    <tr>\n",
       "      <th>350</th>\n",
       "      <td>100</td>\n",
       "      <td>196</td>\n",
       "      <td>4</td>\n",
       "      <td>1</td>\n",
       "      <td>1</td>\n",
       "      <td>79.887052</td>\n",
       "    </tr>\n",
       "    <tr>\n",
       "      <th>400</th>\n",
       "      <td>100</td>\n",
       "      <td>196</td>\n",
       "      <td>4</td>\n",
       "      <td>1</td>\n",
       "      <td>1</td>\n",
       "      <td>88.221567</td>\n",
       "    </tr>\n",
       "    <tr>\n",
       "      <th>450</th>\n",
       "      <td>100</td>\n",
       "      <td>196</td>\n",
       "      <td>4</td>\n",
       "      <td>1</td>\n",
       "      <td>1</td>\n",
       "      <td>97.995842</td>\n",
       "    </tr>\n",
       "    <tr>\n",
       "      <th>500</th>\n",
       "      <td>100</td>\n",
       "      <td>196</td>\n",
       "      <td>4</td>\n",
       "      <td>1</td>\n",
       "      <td>1</td>\n",
       "      <td>105.932741</td>\n",
       "    </tr>\n",
       "    <tr>\n",
       "      <th>550</th>\n",
       "      <td>100</td>\n",
       "      <td>196</td>\n",
       "      <td>4</td>\n",
       "      <td>1</td>\n",
       "      <td>1</td>\n",
       "      <td>112.631536</td>\n",
       "    </tr>\n",
       "    <tr>\n",
       "      <th>600</th>\n",
       "      <td>100</td>\n",
       "      <td>196</td>\n",
       "      <td>4</td>\n",
       "      <td>1</td>\n",
       "      <td>1</td>\n",
       "      <td>119.722536</td>\n",
       "    </tr>\n",
       "    <tr>\n",
       "      <th>650</th>\n",
       "      <td>100</td>\n",
       "      <td>196</td>\n",
       "      <td>4</td>\n",
       "      <td>1</td>\n",
       "      <td>1</td>\n",
       "      <td>127.440451</td>\n",
       "    </tr>\n",
       "    <tr>\n",
       "      <th>700</th>\n",
       "      <td>100</td>\n",
       "      <td>196</td>\n",
       "      <td>4</td>\n",
       "      <td>1</td>\n",
       "      <td>1</td>\n",
       "      <td>133.353800</td>\n",
       "    </tr>\n",
       "    <tr>\n",
       "      <th>750</th>\n",
       "      <td>100</td>\n",
       "      <td>196</td>\n",
       "      <td>4</td>\n",
       "      <td>1</td>\n",
       "      <td>1</td>\n",
       "      <td>145.536567</td>\n",
       "    </tr>\n",
       "    <tr>\n",
       "      <th>800</th>\n",
       "      <td>100</td>\n",
       "      <td>196</td>\n",
       "      <td>4</td>\n",
       "      <td>1</td>\n",
       "      <td>1</td>\n",
       "      <td>151.935949</td>\n",
       "    </tr>\n",
       "  </tbody>\n",
       "</table>\n",
       "</div>"
      ],
      "text/plain": [
       "      mp  acid_ls  temp  time  scale  avg_prediction\n",
       "edc                                                 \n",
       "200  100      196     4     1      1       45.629521\n",
       "250  100      196     4     1      1       57.973542\n",
       "300  100      196     4     1      1       71.788542\n",
       "350  100      196     4     1      1       79.887052\n",
       "400  100      196     4     1      1       88.221567\n",
       "450  100      196     4     1      1       97.995842\n",
       "500  100      196     4     1      1      105.932741\n",
       "550  100      196     4     1      1      112.631536\n",
       "600  100      196     4     1      1      119.722536\n",
       "650  100      196     4     1      1      127.440451\n",
       "700  100      196     4     1      1      133.353800\n",
       "750  100      196     4     1      1      145.536567\n",
       "800  100      196     4     1      1      151.935949"
      ]
     },
     "execution_count": 40,
     "metadata": {},
     "output_type": "execute_result"
    }
   ],
   "source": [
    "mean=ensemble.mean()\n",
    "test = test.set_index('edc')\n",
    "test['avg_prediction'] = mean\n",
    "test"
   ]
  },
  {
   "cell_type": "code",
   "execution_count": 41,
   "metadata": {},
   "outputs": [
    {
     "data": {
      "text/plain": [
       "Text(0, 0.5, 'Linker Score')"
      ]
     },
     "execution_count": 41,
     "metadata": {},
     "output_type": "execute_result"
    },
    {
     "data": {
      "image/png": "[encoded data removed]",
      "text/plain": [
       "<Figure size 432x288 with 1 Axes>"
      ]
     },
     "metadata": {
      "needs_background": "light"
     },
     "output_type": "display_data"
    }
   ],
   "source": [
    "plt.scatter(test.index,test.avg_prediction)\n",
    "plt.xlabel('EDC')\n",
    "plt.ylabel('Linker Score')"
   ]
  },
  {
   "cell_type": "code",
   "execution_count": 42,
   "metadata": {},
   "outputs": [
    {
     "data": {
      "text/plain": [
       "17.363642788250083"
      ]
     },
     "execution_count": 42,
     "metadata": {},
     "output_type": "execute_result"
    }
   ],
   "source": [
    "res7 = np.sqrt(mean_squared_error(y_test,(np.squeeze(y_pred_2)+y_pred_4+y_pred_6)/3))\n",
    "res7"
   ]
  },
  {
   "cell_type": "code",
   "execution_count": null,
   "metadata": {},
   "outputs": [],
   "source": []
  }
 ],
 "metadata": {
  "kernelspec": {
   "display_name": "Python 3",
   "language": "python",
   "name": "python3"
  },
  "language_info": {
   "codemirror_mode": {
    "name": "ipython",
    "version": 3
   },
   "file_extension": ".py",
   "mimetype": "text/x-python",
   "name": "python",
   "nbconvert_exporter": "python",
   "pygments_lexer": "ipython3",
   "version": "3.8.5"
  }
 },
 "nbformat": 4,
 "nbformat_minor": 2
}
