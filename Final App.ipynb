{
 "cells": [
  {
   "cell_type": "markdown",
   "metadata": {},
   "source": [
    "# Amine Activation ML App"
   ]
  },
  {
   "cell_type": "markdown",
   "metadata": {},
   "source": [
    "## Import all libraries"
   ]
  },
  {
   "cell_type": "code",
   "execution_count": 1,
   "metadata": {},
   "outputs": [],
   "source": [
    "import pandas as pd\n",
    "import numpy as np\n",
    "import matplotlib.pyplot as plt\n",
    "import seaborn\n",
    "import pickle\n",
    "import smogn\n",
    "\n",
    "from sklearn.model_selection import train_test_split\n",
    "from sklearn.metrics import mean_squared_error\n",
    "from sklearn.model_selection import GridSearchCV\n",
    "\n",
    "import sklearn.metrics as metrics\n",
    "from sklearn.linear_model import LinearRegression\n",
    "from sklearn.metrics import mean_squared_error, r2_score\n",
    "\n",
    "import xgboost as xgb\n",
    "from xgboost import XGBRegressor\n",
    "from sklearn.neighbors import KNeighborsRegressor \n",
    "from sklearn.ensemble import RandomForestRegressor\n",
    "from sklearn.svm import SVR\n"
   ]
  },
  {
   "cell_type": "markdown",
   "metadata": {},
   "source": [
    "## Import raw activation data"
   ]
  },
  {
   "cell_type": "code",
   "execution_count": 2,
   "metadata": {},
   "outputs": [
    {
     "data": {
      "text/html": [
       "<div>\n",
       "<style scoped>\n",
       "    .dataframe tbody tr th:only-of-type {\n",
       "        vertical-align: middle;\n",
       "    }\n",
       "\n",
       "    .dataframe tbody tr th {\n",
       "        vertical-align: top;\n",
       "    }\n",
       "\n",
       "    .dataframe thead th {\n",
       "        text-align: right;\n",
       "    }\n",
       "</style>\n",
       "<table border=\"1\" class=\"dataframe\">\n",
       "  <thead>\n",
       "    <tr style=\"text-align: right;\">\n",
       "      <th></th>\n",
       "      <th>lot_0</th>\n",
       "      <th>acid_1</th>\n",
       "      <th>acid_mn_2</th>\n",
       "      <th>acid_mp_3</th>\n",
       "      <th>acid_pdi_4</th>\n",
       "      <th>acid_ls_5</th>\n",
       "      <th>scale_6</th>\n",
       "      <th>eda_7</th>\n",
       "      <th>edc_8</th>\n",
       "      <th>nhs_9</th>\n",
       "      <th>...</th>\n",
       "      <th>scale_dummy_21</th>\n",
       "      <th>yield_SK3</th>\n",
       "      <th>yield_UCHT1</th>\n",
       "      <th>yield_53_67</th>\n",
       "      <th>MFI_SK3</th>\n",
       "      <th>SK3_agg</th>\n",
       "      <th>MFI_UCHT1</th>\n",
       "      <th>UCHT1_agg</th>\n",
       "      <th>MFI_53_67</th>\n",
       "      <th>53_67_agg</th>\n",
       "    </tr>\n",
       "  </thead>\n",
       "  <tbody>\n",
       "    <tr>\n",
       "      <td>0</td>\n",
       "      <td>NaN</td>\n",
       "      <td>1519</td>\n",
       "      <td>56.0</td>\n",
       "      <td>98.0</td>\n",
       "      <td>1.79</td>\n",
       "      <td>128.0</td>\n",
       "      <td>50</td>\n",
       "      <td>2000</td>\n",
       "      <td>200</td>\n",
       "      <td>200</td>\n",
       "      <td>...</td>\n",
       "      <td>0</td>\n",
       "      <td>NaN</td>\n",
       "      <td>50.0</td>\n",
       "      <td>42.0</td>\n",
       "      <td>NaN</td>\n",
       "      <td>NaN</td>\n",
       "      <td>NaN</td>\n",
       "      <td>NaN</td>\n",
       "      <td>NaN</td>\n",
       "      <td>NaN</td>\n",
       "    </tr>\n",
       "    <tr>\n",
       "      <td>1</td>\n",
       "      <td>NaN</td>\n",
       "      <td>1519</td>\n",
       "      <td>56.0</td>\n",
       "      <td>98.0</td>\n",
       "      <td>1.79</td>\n",
       "      <td>128.0</td>\n",
       "      <td>50</td>\n",
       "      <td>2000</td>\n",
       "      <td>300</td>\n",
       "      <td>200</td>\n",
       "      <td>...</td>\n",
       "      <td>0</td>\n",
       "      <td>NaN</td>\n",
       "      <td>49.0</td>\n",
       "      <td>38.0</td>\n",
       "      <td>NaN</td>\n",
       "      <td>NaN</td>\n",
       "      <td>NaN</td>\n",
       "      <td>NaN</td>\n",
       "      <td>NaN</td>\n",
       "      <td>NaN</td>\n",
       "    </tr>\n",
       "    <tr>\n",
       "      <td>2</td>\n",
       "      <td>NaN</td>\n",
       "      <td>1232</td>\n",
       "      <td>58.0</td>\n",
       "      <td>109.0</td>\n",
       "      <td>1.90</td>\n",
       "      <td>220.0</td>\n",
       "      <td>50</td>\n",
       "      <td>1700</td>\n",
       "      <td>250</td>\n",
       "      <td>200</td>\n",
       "      <td>...</td>\n",
       "      <td>0</td>\n",
       "      <td>NaN</td>\n",
       "      <td>38.0</td>\n",
       "      <td>34.0</td>\n",
       "      <td>NaN</td>\n",
       "      <td>NaN</td>\n",
       "      <td>161.0</td>\n",
       "      <td>NaN</td>\n",
       "      <td>128.0</td>\n",
       "      <td>NaN</td>\n",
       "    </tr>\n",
       "    <tr>\n",
       "      <td>3</td>\n",
       "      <td>NaN</td>\n",
       "      <td>1232</td>\n",
       "      <td>58.0</td>\n",
       "      <td>109.0</td>\n",
       "      <td>1.90</td>\n",
       "      <td>220.0</td>\n",
       "      <td>50</td>\n",
       "      <td>1700</td>\n",
       "      <td>300</td>\n",
       "      <td>200</td>\n",
       "      <td>...</td>\n",
       "      <td>0</td>\n",
       "      <td>NaN</td>\n",
       "      <td>NaN</td>\n",
       "      <td>NaN</td>\n",
       "      <td>NaN</td>\n",
       "      <td>NaN</td>\n",
       "      <td>NaN</td>\n",
       "      <td>NaN</td>\n",
       "      <td>NaN</td>\n",
       "      <td>NaN</td>\n",
       "    </tr>\n",
       "    <tr>\n",
       "      <td>4</td>\n",
       "      <td>NaN</td>\n",
       "      <td>1232</td>\n",
       "      <td>58.0</td>\n",
       "      <td>109.0</td>\n",
       "      <td>1.90</td>\n",
       "      <td>220.0</td>\n",
       "      <td>50</td>\n",
       "      <td>1700</td>\n",
       "      <td>400</td>\n",
       "      <td>200</td>\n",
       "      <td>...</td>\n",
       "      <td>0</td>\n",
       "      <td>NaN</td>\n",
       "      <td>NaN</td>\n",
       "      <td>NaN</td>\n",
       "      <td>NaN</td>\n",
       "      <td>NaN</td>\n",
       "      <td>NaN</td>\n",
       "      <td>NaN</td>\n",
       "      <td>NaN</td>\n",
       "      <td>NaN</td>\n",
       "    </tr>\n",
       "    <tr>\n",
       "      <td>...</td>\n",
       "      <td>...</td>\n",
       "      <td>...</td>\n",
       "      <td>...</td>\n",
       "      <td>...</td>\n",
       "      <td>...</td>\n",
       "      <td>...</td>\n",
       "      <td>...</td>\n",
       "      <td>...</td>\n",
       "      <td>...</td>\n",
       "      <td>...</td>\n",
       "      <td>...</td>\n",
       "      <td>...</td>\n",
       "      <td>...</td>\n",
       "      <td>...</td>\n",
       "      <td>...</td>\n",
       "      <td>...</td>\n",
       "      <td>...</td>\n",
       "      <td>...</td>\n",
       "      <td>...</td>\n",
       "      <td>...</td>\n",
       "      <td>...</td>\n",
       "    </tr>\n",
       "    <tr>\n",
       "      <td>118</td>\n",
       "      <td>NaN</td>\n",
       "      <td>D2569</td>\n",
       "      <td>55.0</td>\n",
       "      <td>94.0</td>\n",
       "      <td>1.68</td>\n",
       "      <td>165.0</td>\n",
       "      <td>50</td>\n",
       "      <td>2000</td>\n",
       "      <td>800</td>\n",
       "      <td>200</td>\n",
       "      <td>...</td>\n",
       "      <td>0</td>\n",
       "      <td>NaN</td>\n",
       "      <td>NaN</td>\n",
       "      <td>NaN</td>\n",
       "      <td>NaN</td>\n",
       "      <td>NaN</td>\n",
       "      <td>NaN</td>\n",
       "      <td>NaN</td>\n",
       "      <td>NaN</td>\n",
       "      <td>NaN</td>\n",
       "    </tr>\n",
       "    <tr>\n",
       "      <td>119</td>\n",
       "      <td>NaN</td>\n",
       "      <td>D2577</td>\n",
       "      <td>52.0</td>\n",
       "      <td>94.0</td>\n",
       "      <td>1.75</td>\n",
       "      <td>186.0</td>\n",
       "      <td>50</td>\n",
       "      <td>2000</td>\n",
       "      <td>800</td>\n",
       "      <td>200</td>\n",
       "      <td>...</td>\n",
       "      <td>0</td>\n",
       "      <td>NaN</td>\n",
       "      <td>NaN</td>\n",
       "      <td>NaN</td>\n",
       "      <td>NaN</td>\n",
       "      <td>NaN</td>\n",
       "      <td>NaN</td>\n",
       "      <td>NaN</td>\n",
       "      <td>NaN</td>\n",
       "      <td>NaN</td>\n",
       "    </tr>\n",
       "    <tr>\n",
       "      <td>120</td>\n",
       "      <td>NaN</td>\n",
       "      <td>D2577</td>\n",
       "      <td>52.0</td>\n",
       "      <td>94.0</td>\n",
       "      <td>1.75</td>\n",
       "      <td>186.0</td>\n",
       "      <td>50</td>\n",
       "      <td>2000</td>\n",
       "      <td>650</td>\n",
       "      <td>200</td>\n",
       "      <td>...</td>\n",
       "      <td>0</td>\n",
       "      <td>NaN</td>\n",
       "      <td>NaN</td>\n",
       "      <td>NaN</td>\n",
       "      <td>NaN</td>\n",
       "      <td>NaN</td>\n",
       "      <td>NaN</td>\n",
       "      <td>NaN</td>\n",
       "      <td>NaN</td>\n",
       "      <td>NaN</td>\n",
       "    </tr>\n",
       "    <tr>\n",
       "      <td>121</td>\n",
       "      <td>NaN</td>\n",
       "      <td>D2555</td>\n",
       "      <td>57.0</td>\n",
       "      <td>100.0</td>\n",
       "      <td>1.77</td>\n",
       "      <td>196.0</td>\n",
       "      <td>3700</td>\n",
       "      <td>2000</td>\n",
       "      <td>400</td>\n",
       "      <td>200</td>\n",
       "      <td>...</td>\n",
       "      <td>1</td>\n",
       "      <td>NaN</td>\n",
       "      <td>NaN</td>\n",
       "      <td>NaN</td>\n",
       "      <td>NaN</td>\n",
       "      <td>NaN</td>\n",
       "      <td>NaN</td>\n",
       "      <td>NaN</td>\n",
       "      <td>NaN</td>\n",
       "      <td>NaN</td>\n",
       "    </tr>\n",
       "    <tr>\n",
       "      <td>122</td>\n",
       "      <td>NaN</td>\n",
       "      <td>D2632</td>\n",
       "      <td>54.0</td>\n",
       "      <td>78.0</td>\n",
       "      <td>1.39</td>\n",
       "      <td>127.0</td>\n",
       "      <td>50</td>\n",
       "      <td>2000</td>\n",
       "      <td>500</td>\n",
       "      <td>200</td>\n",
       "      <td>...</td>\n",
       "      <td>0</td>\n",
       "      <td>NaN</td>\n",
       "      <td>NaN</td>\n",
       "      <td>NaN</td>\n",
       "      <td>NaN</td>\n",
       "      <td>NaN</td>\n",
       "      <td>NaN</td>\n",
       "      <td>NaN</td>\n",
       "      <td>NaN</td>\n",
       "      <td>NaN</td>\n",
       "    </tr>\n",
       "  </tbody>\n",
       "</table>\n",
       "<p>123 rows × 31 columns</p>\n",
       "</div>"
      ],
      "text/plain": [
       "    lot_0 acid_1  acid_mn_2  acid_mp_3  acid_pdi_4  acid_ls_5  scale_6  eda_7  \\\n",
       "0     NaN   1519       56.0       98.0        1.79      128.0       50   2000   \n",
       "1     NaN   1519       56.0       98.0        1.79      128.0       50   2000   \n",
       "2     NaN   1232       58.0      109.0        1.90      220.0       50   1700   \n",
       "3     NaN   1232       58.0      109.0        1.90      220.0       50   1700   \n",
       "4     NaN   1232       58.0      109.0        1.90      220.0       50   1700   \n",
       "..    ...    ...        ...        ...         ...        ...      ...    ...   \n",
       "118   NaN  D2569       55.0       94.0        1.68      165.0       50   2000   \n",
       "119   NaN  D2577       52.0       94.0        1.75      186.0       50   2000   \n",
       "120   NaN  D2577       52.0       94.0        1.75      186.0       50   2000   \n",
       "121   NaN  D2555       57.0      100.0        1.77      196.0     3700   2000   \n",
       "122   NaN  D2632       54.0       78.0        1.39      127.0       50   2000   \n",
       "\n",
       "     edc_8  nhs_9  ...  scale_dummy_21 yield_SK3  yield_UCHT1  yield_53_67  \\\n",
       "0      200    200  ...               0       NaN         50.0         42.0   \n",
       "1      300    200  ...               0       NaN         49.0         38.0   \n",
       "2      250    200  ...               0       NaN         38.0         34.0   \n",
       "3      300    200  ...               0       NaN          NaN          NaN   \n",
       "4      400    200  ...               0       NaN          NaN          NaN   \n",
       "..     ...    ...  ...             ...       ...          ...          ...   \n",
       "118    800    200  ...               0       NaN          NaN          NaN   \n",
       "119    800    200  ...               0       NaN          NaN          NaN   \n",
       "120    650    200  ...               0       NaN          NaN          NaN   \n",
       "121    400    200  ...               1       NaN          NaN          NaN   \n",
       "122    500    200  ...               0       NaN          NaN          NaN   \n",
       "\n",
       "     MFI_SK3  SK3_agg  MFI_UCHT1  UCHT1_agg  MFI_53_67  53_67_agg  \n",
       "0        NaN      NaN        NaN        NaN        NaN        NaN  \n",
       "1        NaN      NaN        NaN        NaN        NaN        NaN  \n",
       "2        NaN      NaN      161.0        NaN      128.0        NaN  \n",
       "3        NaN      NaN        NaN        NaN        NaN        NaN  \n",
       "4        NaN      NaN        NaN        NaN        NaN        NaN  \n",
       "..       ...      ...        ...        ...        ...        ...  \n",
       "118      NaN      NaN        NaN        NaN        NaN        NaN  \n",
       "119      NaN      NaN        NaN        NaN        NaN        NaN  \n",
       "120      NaN      NaN        NaN        NaN        NaN        NaN  \n",
       "121      NaN      NaN        NaN        NaN        NaN        NaN  \n",
       "122      NaN      NaN        NaN        NaN        NaN        NaN  \n",
       "\n",
       "[123 rows x 31 columns]"
      ]
     },
     "execution_count": 2,
     "metadata": {},
     "output_type": "execute_result"
    }
   ],
   "source": [
    "df = pd.read_csv(r'raw_data.csv')\n",
    "df"
   ]
  },
  {
   "cell_type": "markdown",
   "metadata": {},
   "source": [
    "## Create sub-dataset with relevant columns"
   ]
  },
  {
   "cell_type": "code",
   "execution_count": 3,
   "metadata": {},
   "outputs": [
    {
     "data": {
      "text/html": [
       "<div>\n",
       "<style scoped>\n",
       "    .dataframe tbody tr th:only-of-type {\n",
       "        vertical-align: middle;\n",
       "    }\n",
       "\n",
       "    .dataframe tbody tr th {\n",
       "        vertical-align: top;\n",
       "    }\n",
       "\n",
       "    .dataframe thead th {\n",
       "        text-align: right;\n",
       "    }\n",
       "</style>\n",
       "<table border=\"1\" class=\"dataframe\">\n",
       "  <thead>\n",
       "    <tr style=\"text-align: right;\">\n",
       "      <th></th>\n",
       "      <th>acid_mn_2</th>\n",
       "      <th>acid_mp_3</th>\n",
       "      <th>acid_pdi_4</th>\n",
       "      <th>acid_ls_5</th>\n",
       "      <th>scale_6</th>\n",
       "      <th>eda_7</th>\n",
       "      <th>edc_8</th>\n",
       "      <th>nhs_9</th>\n",
       "      <th>time_10</th>\n",
       "      <th>temp_12</th>\n",
       "      <th>LS_16</th>\n",
       "      <th>time_dummy_20</th>\n",
       "      <th>scale_dummy_21</th>\n",
       "    </tr>\n",
       "  </thead>\n",
       "  <tbody>\n",
       "    <tr>\n",
       "      <td>0</td>\n",
       "      <td>56.0</td>\n",
       "      <td>98.0</td>\n",
       "      <td>1.79</td>\n",
       "      <td>128.0</td>\n",
       "      <td>50</td>\n",
       "      <td>2000</td>\n",
       "      <td>200</td>\n",
       "      <td>200</td>\n",
       "      <td>1</td>\n",
       "      <td>20</td>\n",
       "      <td>88.0</td>\n",
       "      <td>0</td>\n",
       "      <td>0</td>\n",
       "    </tr>\n",
       "    <tr>\n",
       "      <td>1</td>\n",
       "      <td>56.0</td>\n",
       "      <td>98.0</td>\n",
       "      <td>1.79</td>\n",
       "      <td>128.0</td>\n",
       "      <td>50</td>\n",
       "      <td>2000</td>\n",
       "      <td>300</td>\n",
       "      <td>200</td>\n",
       "      <td>1</td>\n",
       "      <td>20</td>\n",
       "      <td>117.0</td>\n",
       "      <td>0</td>\n",
       "      <td>0</td>\n",
       "    </tr>\n",
       "    <tr>\n",
       "      <td>2</td>\n",
       "      <td>58.0</td>\n",
       "      <td>109.0</td>\n",
       "      <td>1.90</td>\n",
       "      <td>220.0</td>\n",
       "      <td>50</td>\n",
       "      <td>1700</td>\n",
       "      <td>250</td>\n",
       "      <td>200</td>\n",
       "      <td>1</td>\n",
       "      <td>20</td>\n",
       "      <td>146.0</td>\n",
       "      <td>0</td>\n",
       "      <td>0</td>\n",
       "    </tr>\n",
       "    <tr>\n",
       "      <td>3</td>\n",
       "      <td>58.0</td>\n",
       "      <td>109.0</td>\n",
       "      <td>1.90</td>\n",
       "      <td>220.0</td>\n",
       "      <td>50</td>\n",
       "      <td>1700</td>\n",
       "      <td>300</td>\n",
       "      <td>200</td>\n",
       "      <td>1</td>\n",
       "      <td>20</td>\n",
       "      <td>169.0</td>\n",
       "      <td>0</td>\n",
       "      <td>0</td>\n",
       "    </tr>\n",
       "    <tr>\n",
       "      <td>4</td>\n",
       "      <td>58.0</td>\n",
       "      <td>109.0</td>\n",
       "      <td>1.90</td>\n",
       "      <td>220.0</td>\n",
       "      <td>50</td>\n",
       "      <td>1700</td>\n",
       "      <td>400</td>\n",
       "      <td>200</td>\n",
       "      <td>1</td>\n",
       "      <td>20</td>\n",
       "      <td>186.0</td>\n",
       "      <td>0</td>\n",
       "      <td>0</td>\n",
       "    </tr>\n",
       "    <tr>\n",
       "      <td>...</td>\n",
       "      <td>...</td>\n",
       "      <td>...</td>\n",
       "      <td>...</td>\n",
       "      <td>...</td>\n",
       "      <td>...</td>\n",
       "      <td>...</td>\n",
       "      <td>...</td>\n",
       "      <td>...</td>\n",
       "      <td>...</td>\n",
       "      <td>...</td>\n",
       "      <td>...</td>\n",
       "      <td>...</td>\n",
       "      <td>...</td>\n",
       "    </tr>\n",
       "    <tr>\n",
       "      <td>118</td>\n",
       "      <td>55.0</td>\n",
       "      <td>94.0</td>\n",
       "      <td>1.68</td>\n",
       "      <td>165.0</td>\n",
       "      <td>50</td>\n",
       "      <td>2000</td>\n",
       "      <td>800</td>\n",
       "      <td>200</td>\n",
       "      <td>24</td>\n",
       "      <td>4</td>\n",
       "      <td>142.0</td>\n",
       "      <td>1</td>\n",
       "      <td>0</td>\n",
       "    </tr>\n",
       "    <tr>\n",
       "      <td>119</td>\n",
       "      <td>52.0</td>\n",
       "      <td>94.0</td>\n",
       "      <td>1.75</td>\n",
       "      <td>186.0</td>\n",
       "      <td>50</td>\n",
       "      <td>2000</td>\n",
       "      <td>800</td>\n",
       "      <td>200</td>\n",
       "      <td>24</td>\n",
       "      <td>4</td>\n",
       "      <td>141.0</td>\n",
       "      <td>1</td>\n",
       "      <td>0</td>\n",
       "    </tr>\n",
       "    <tr>\n",
       "      <td>120</td>\n",
       "      <td>52.0</td>\n",
       "      <td>94.0</td>\n",
       "      <td>1.75</td>\n",
       "      <td>186.0</td>\n",
       "      <td>50</td>\n",
       "      <td>2000</td>\n",
       "      <td>650</td>\n",
       "      <td>200</td>\n",
       "      <td>24</td>\n",
       "      <td>4</td>\n",
       "      <td>131.0</td>\n",
       "      <td>1</td>\n",
       "      <td>0</td>\n",
       "    </tr>\n",
       "    <tr>\n",
       "      <td>121</td>\n",
       "      <td>57.0</td>\n",
       "      <td>100.0</td>\n",
       "      <td>1.77</td>\n",
       "      <td>196.0</td>\n",
       "      <td>3700</td>\n",
       "      <td>2000</td>\n",
       "      <td>400</td>\n",
       "      <td>200</td>\n",
       "      <td>24</td>\n",
       "      <td>4</td>\n",
       "      <td>88.0</td>\n",
       "      <td>1</td>\n",
       "      <td>1</td>\n",
       "    </tr>\n",
       "    <tr>\n",
       "      <td>122</td>\n",
       "      <td>54.0</td>\n",
       "      <td>78.0</td>\n",
       "      <td>1.39</td>\n",
       "      <td>127.0</td>\n",
       "      <td>50</td>\n",
       "      <td>2000</td>\n",
       "      <td>500</td>\n",
       "      <td>200</td>\n",
       "      <td>24</td>\n",
       "      <td>4</td>\n",
       "      <td>90.0</td>\n",
       "      <td>1</td>\n",
       "      <td>0</td>\n",
       "    </tr>\n",
       "  </tbody>\n",
       "</table>\n",
       "<p>123 rows × 13 columns</p>\n",
       "</div>"
      ],
      "text/plain": [
       "     acid_mn_2  acid_mp_3  acid_pdi_4  acid_ls_5  scale_6  eda_7  edc_8  \\\n",
       "0         56.0       98.0        1.79      128.0       50   2000    200   \n",
       "1         56.0       98.0        1.79      128.0       50   2000    300   \n",
       "2         58.0      109.0        1.90      220.0       50   1700    250   \n",
       "3         58.0      109.0        1.90      220.0       50   1700    300   \n",
       "4         58.0      109.0        1.90      220.0       50   1700    400   \n",
       "..         ...        ...         ...        ...      ...    ...    ...   \n",
       "118       55.0       94.0        1.68      165.0       50   2000    800   \n",
       "119       52.0       94.0        1.75      186.0       50   2000    800   \n",
       "120       52.0       94.0        1.75      186.0       50   2000    650   \n",
       "121       57.0      100.0        1.77      196.0     3700   2000    400   \n",
       "122       54.0       78.0        1.39      127.0       50   2000    500   \n",
       "\n",
       "     nhs_9  time_10  temp_12  LS_16  time_dummy_20  scale_dummy_21  \n",
       "0      200        1       20   88.0              0               0  \n",
       "1      200        1       20  117.0              0               0  \n",
       "2      200        1       20  146.0              0               0  \n",
       "3      200        1       20  169.0              0               0  \n",
       "4      200        1       20  186.0              0               0  \n",
       "..     ...      ...      ...    ...            ...             ...  \n",
       "118    200       24        4  142.0              1               0  \n",
       "119    200       24        4  141.0              1               0  \n",
       "120    200       24        4  131.0              1               0  \n",
       "121    200       24        4   88.0              1               1  \n",
       "122    200       24        4   90.0              1               0  \n",
       "\n",
       "[123 rows x 13 columns]"
      ]
     },
     "execution_count": 3,
     "metadata": {},
     "output_type": "execute_result"
    }
   ],
   "source": [
    "subdf = df.take([2,3,4,5,6,7,8,9,10,12,16,20,21],axis=1)\n",
    "subdf"
   ]
  },
  {
   "cell_type": "markdown",
   "metadata": {},
   "source": [
    "## Basic data analytics"
   ]
  },
  {
   "cell_type": "code",
   "execution_count": 4,
   "metadata": {},
   "outputs": [
    {
     "data": {
      "text/html": [
       "<div>\n",
       "<style scoped>\n",
       "    .dataframe tbody tr th:only-of-type {\n",
       "        vertical-align: middle;\n",
       "    }\n",
       "\n",
       "    .dataframe tbody tr th {\n",
       "        vertical-align: top;\n",
       "    }\n",
       "\n",
       "    .dataframe thead th {\n",
       "        text-align: right;\n",
       "    }\n",
       "</style>\n",
       "<table border=\"1\" class=\"dataframe\">\n",
       "  <thead>\n",
       "    <tr style=\"text-align: right;\">\n",
       "      <th></th>\n",
       "      <th>acid_mn_2</th>\n",
       "      <th>acid_mp_3</th>\n",
       "      <th>acid_pdi_4</th>\n",
       "      <th>acid_ls_5</th>\n",
       "      <th>scale_6</th>\n",
       "      <th>eda_7</th>\n",
       "      <th>edc_8</th>\n",
       "      <th>nhs_9</th>\n",
       "      <th>time_10</th>\n",
       "      <th>temp_12</th>\n",
       "      <th>LS_16</th>\n",
       "      <th>time_dummy_20</th>\n",
       "      <th>scale_dummy_21</th>\n",
       "    </tr>\n",
       "  </thead>\n",
       "  <tbody>\n",
       "    <tr>\n",
       "      <td>acid_mn_2</td>\n",
       "      <td>1.000000</td>\n",
       "      <td>0.499244</td>\n",
       "      <td>0.062453</td>\n",
       "      <td>0.103998</td>\n",
       "      <td>0.032342</td>\n",
       "      <td>-0.139872</td>\n",
       "      <td>0.001497</td>\n",
       "      <td>-0.500059</td>\n",
       "      <td>-0.238021</td>\n",
       "      <td>0.435071</td>\n",
       "      <td>0.432793</td>\n",
       "      <td>-0.238021</td>\n",
       "      <td>0.062550</td>\n",
       "    </tr>\n",
       "    <tr>\n",
       "      <td>acid_mp_3</td>\n",
       "      <td>0.499244</td>\n",
       "      <td>1.000000</td>\n",
       "      <td>0.838264</td>\n",
       "      <td>0.630163</td>\n",
       "      <td>-0.087448</td>\n",
       "      <td>0.088020</td>\n",
       "      <td>-0.062321</td>\n",
       "      <td>-0.300402</td>\n",
       "      <td>-0.181217</td>\n",
       "      <td>0.229597</td>\n",
       "      <td>0.381777</td>\n",
       "      <td>-0.181217</td>\n",
       "      <td>-0.089763</td>\n",
       "    </tr>\n",
       "    <tr>\n",
       "      <td>acid_pdi_4</td>\n",
       "      <td>0.062453</td>\n",
       "      <td>0.838264</td>\n",
       "      <td>1.000000</td>\n",
       "      <td>0.644391</td>\n",
       "      <td>-0.155506</td>\n",
       "      <td>0.108875</td>\n",
       "      <td>-0.132481</td>\n",
       "      <td>-0.143638</td>\n",
       "      <td>-0.214865</td>\n",
       "      <td>0.167967</td>\n",
       "      <td>0.280201</td>\n",
       "      <td>-0.214865</td>\n",
       "      <td>-0.206579</td>\n",
       "    </tr>\n",
       "    <tr>\n",
       "      <td>acid_ls_5</td>\n",
       "      <td>0.103998</td>\n",
       "      <td>0.630163</td>\n",
       "      <td>0.644391</td>\n",
       "      <td>1.000000</td>\n",
       "      <td>-0.225736</td>\n",
       "      <td>0.090686</td>\n",
       "      <td>-0.061861</td>\n",
       "      <td>-0.350541</td>\n",
       "      <td>-0.101035</td>\n",
       "      <td>0.236762</td>\n",
       "      <td>0.458526</td>\n",
       "      <td>-0.101035</td>\n",
       "      <td>-0.307231</td>\n",
       "    </tr>\n",
       "    <tr>\n",
       "      <td>scale_6</td>\n",
       "      <td>0.032342</td>\n",
       "      <td>-0.087448</td>\n",
       "      <td>-0.155506</td>\n",
       "      <td>-0.225736</td>\n",
       "      <td>1.000000</td>\n",
       "      <td>-0.031823</td>\n",
       "      <td>0.003848</td>\n",
       "      <td>0.147566</td>\n",
       "      <td>0.333314</td>\n",
       "      <td>-0.268209</td>\n",
       "      <td>-0.240623</td>\n",
       "      <td>0.333314</td>\n",
       "      <td>0.807698</td>\n",
       "    </tr>\n",
       "    <tr>\n",
       "      <td>eda_7</td>\n",
       "      <td>-0.139872</td>\n",
       "      <td>0.088020</td>\n",
       "      <td>0.108875</td>\n",
       "      <td>0.090686</td>\n",
       "      <td>-0.031823</td>\n",
       "      <td>1.000000</td>\n",
       "      <td>0.368358</td>\n",
       "      <td>0.053781</td>\n",
       "      <td>-0.023128</td>\n",
       "      <td>-0.226820</td>\n",
       "      <td>0.154234</td>\n",
       "      <td>-0.023128</td>\n",
       "      <td>-0.039399</td>\n",
       "    </tr>\n",
       "    <tr>\n",
       "      <td>edc_8</td>\n",
       "      <td>0.001497</td>\n",
       "      <td>-0.062321</td>\n",
       "      <td>-0.132481</td>\n",
       "      <td>-0.061861</td>\n",
       "      <td>0.003848</td>\n",
       "      <td>0.368358</td>\n",
       "      <td>1.000000</td>\n",
       "      <td>0.029040</td>\n",
       "      <td>0.217234</td>\n",
       "      <td>-0.428671</td>\n",
       "      <td>0.330754</td>\n",
       "      <td>0.217234</td>\n",
       "      <td>0.015572</td>\n",
       "    </tr>\n",
       "    <tr>\n",
       "      <td>nhs_9</td>\n",
       "      <td>-0.500059</td>\n",
       "      <td>-0.300402</td>\n",
       "      <td>-0.143638</td>\n",
       "      <td>-0.350541</td>\n",
       "      <td>0.147566</td>\n",
       "      <td>0.053781</td>\n",
       "      <td>0.029040</td>\n",
       "      <td>1.000000</td>\n",
       "      <td>0.285971</td>\n",
       "      <td>-0.457284</td>\n",
       "      <td>-0.552979</td>\n",
       "      <td>0.285971</td>\n",
       "      <td>0.140904</td>\n",
       "    </tr>\n",
       "    <tr>\n",
       "      <td>time_10</td>\n",
       "      <td>-0.238021</td>\n",
       "      <td>-0.181217</td>\n",
       "      <td>-0.214865</td>\n",
       "      <td>-0.101035</td>\n",
       "      <td>0.333314</td>\n",
       "      <td>-0.023128</td>\n",
       "      <td>0.217234</td>\n",
       "      <td>0.285971</td>\n",
       "      <td>1.000000</td>\n",
       "      <td>-0.648346</td>\n",
       "      <td>-0.430142</td>\n",
       "      <td>1.000000</td>\n",
       "      <td>0.406506</td>\n",
       "    </tr>\n",
       "    <tr>\n",
       "      <td>temp_12</td>\n",
       "      <td>0.435071</td>\n",
       "      <td>0.229597</td>\n",
       "      <td>0.167967</td>\n",
       "      <td>0.236762</td>\n",
       "      <td>-0.268209</td>\n",
       "      <td>-0.226820</td>\n",
       "      <td>-0.428671</td>\n",
       "      <td>-0.457284</td>\n",
       "      <td>-0.648346</td>\n",
       "      <td>1.000000</td>\n",
       "      <td>0.555201</td>\n",
       "      <td>-0.648346</td>\n",
       "      <td>-0.296252</td>\n",
       "    </tr>\n",
       "    <tr>\n",
       "      <td>LS_16</td>\n",
       "      <td>0.432793</td>\n",
       "      <td>0.381777</td>\n",
       "      <td>0.280201</td>\n",
       "      <td>0.458526</td>\n",
       "      <td>-0.240623</td>\n",
       "      <td>0.154234</td>\n",
       "      <td>0.330754</td>\n",
       "      <td>-0.552979</td>\n",
       "      <td>-0.430142</td>\n",
       "      <td>0.555201</td>\n",
       "      <td>1.000000</td>\n",
       "      <td>-0.430142</td>\n",
       "      <td>-0.261813</td>\n",
       "    </tr>\n",
       "    <tr>\n",
       "      <td>time_dummy_20</td>\n",
       "      <td>-0.238021</td>\n",
       "      <td>-0.181217</td>\n",
       "      <td>-0.214865</td>\n",
       "      <td>-0.101035</td>\n",
       "      <td>0.333314</td>\n",
       "      <td>-0.023128</td>\n",
       "      <td>0.217234</td>\n",
       "      <td>0.285971</td>\n",
       "      <td>1.000000</td>\n",
       "      <td>-0.648346</td>\n",
       "      <td>-0.430142</td>\n",
       "      <td>1.000000</td>\n",
       "      <td>0.406506</td>\n",
       "    </tr>\n",
       "    <tr>\n",
       "      <td>scale_dummy_21</td>\n",
       "      <td>0.062550</td>\n",
       "      <td>-0.089763</td>\n",
       "      <td>-0.206579</td>\n",
       "      <td>-0.307231</td>\n",
       "      <td>0.807698</td>\n",
       "      <td>-0.039399</td>\n",
       "      <td>0.015572</td>\n",
       "      <td>0.140904</td>\n",
       "      <td>0.406506</td>\n",
       "      <td>-0.296252</td>\n",
       "      <td>-0.261813</td>\n",
       "      <td>0.406506</td>\n",
       "      <td>1.000000</td>\n",
       "    </tr>\n",
       "  </tbody>\n",
       "</table>\n",
       "</div>"
      ],
      "text/plain": [
       "                acid_mn_2  acid_mp_3  acid_pdi_4  acid_ls_5   scale_6  \\\n",
       "acid_mn_2        1.000000   0.499244    0.062453   0.103998  0.032342   \n",
       "acid_mp_3        0.499244   1.000000    0.838264   0.630163 -0.087448   \n",
       "acid_pdi_4       0.062453   0.838264    1.000000   0.644391 -0.155506   \n",
       "acid_ls_5        0.103998   0.630163    0.644391   1.000000 -0.225736   \n",
       "scale_6          0.032342  -0.087448   -0.155506  -0.225736  1.000000   \n",
       "eda_7           -0.139872   0.088020    0.108875   0.090686 -0.031823   \n",
       "edc_8            0.001497  -0.062321   -0.132481  -0.061861  0.003848   \n",
       "nhs_9           -0.500059  -0.300402   -0.143638  -0.350541  0.147566   \n",
       "time_10         -0.238021  -0.181217   -0.214865  -0.101035  0.333314   \n",
       "temp_12          0.435071   0.229597    0.167967   0.236762 -0.268209   \n",
       "LS_16            0.432793   0.381777    0.280201   0.458526 -0.240623   \n",
       "time_dummy_20   -0.238021  -0.181217   -0.214865  -0.101035  0.333314   \n",
       "scale_dummy_21   0.062550  -0.089763   -0.206579  -0.307231  0.807698   \n",
       "\n",
       "                   eda_7     edc_8     nhs_9   time_10   temp_12     LS_16  \\\n",
       "acid_mn_2      -0.139872  0.001497 -0.500059 -0.238021  0.435071  0.432793   \n",
       "acid_mp_3       0.088020 -0.062321 -0.300402 -0.181217  0.229597  0.381777   \n",
       "acid_pdi_4      0.108875 -0.132481 -0.143638 -0.214865  0.167967  0.280201   \n",
       "acid_ls_5       0.090686 -0.061861 -0.350541 -0.101035  0.236762  0.458526   \n",
       "scale_6        -0.031823  0.003848  0.147566  0.333314 -0.268209 -0.240623   \n",
       "eda_7           1.000000  0.368358  0.053781 -0.023128 -0.226820  0.154234   \n",
       "edc_8           0.368358  1.000000  0.029040  0.217234 -0.428671  0.330754   \n",
       "nhs_9           0.053781  0.029040  1.000000  0.285971 -0.457284 -0.552979   \n",
       "time_10        -0.023128  0.217234  0.285971  1.000000 -0.648346 -0.430142   \n",
       "temp_12        -0.226820 -0.428671 -0.457284 -0.648346  1.000000  0.555201   \n",
       "LS_16           0.154234  0.330754 -0.552979 -0.430142  0.555201  1.000000   \n",
       "time_dummy_20  -0.023128  0.217234  0.285971  1.000000 -0.648346 -0.430142   \n",
       "scale_dummy_21 -0.039399  0.015572  0.140904  0.406506 -0.296252 -0.261813   \n",
       "\n",
       "                time_dummy_20  scale_dummy_21  \n",
       "acid_mn_2           -0.238021        0.062550  \n",
       "acid_mp_3           -0.181217       -0.089763  \n",
       "acid_pdi_4          -0.214865       -0.206579  \n",
       "acid_ls_5           -0.101035       -0.307231  \n",
       "scale_6              0.333314        0.807698  \n",
       "eda_7               -0.023128       -0.039399  \n",
       "edc_8                0.217234        0.015572  \n",
       "nhs_9                0.285971        0.140904  \n",
       "time_10              1.000000        0.406506  \n",
       "temp_12             -0.648346       -0.296252  \n",
       "LS_16               -0.430142       -0.261813  \n",
       "time_dummy_20        1.000000        0.406506  \n",
       "scale_dummy_21       0.406506        1.000000  "
      ]
     },
     "execution_count": 4,
     "metadata": {},
     "output_type": "execute_result"
    }
   ],
   "source": [
    "subdf.corr()"
   ]
  },
  {
   "cell_type": "code",
   "execution_count": 5,
   "metadata": {},
   "outputs": [
    {
     "name": "stdout",
     "output_type": "stream",
     "text": [
      "<class 'pandas.core.frame.DataFrame'>\n",
      "RangeIndex: 123 entries, 0 to 122\n",
      "Data columns (total 13 columns):\n",
      "acid_mn_2         123 non-null float64\n",
      "acid_mp_3         123 non-null float64\n",
      "acid_pdi_4        123 non-null float64\n",
      "acid_ls_5         123 non-null float64\n",
      "scale_6           123 non-null int64\n",
      "eda_7             123 non-null int64\n",
      "edc_8             123 non-null int64\n",
      "nhs_9             123 non-null int64\n",
      "time_10           123 non-null int64\n",
      "temp_12           123 non-null int64\n",
      "LS_16             123 non-null float64\n",
      "time_dummy_20     123 non-null int64\n",
      "scale_dummy_21    123 non-null int64\n",
      "dtypes: float64(5), int64(8)\n",
      "memory usage: 12.6 KB\n",
      "None\n"
     ]
    },
    {
     "data": {
      "image/png": "[encoded data removed]",
      "text/plain": [
       "<Figure size 432x288 with 1 Axes>"
      ]
     },
     "metadata": {
      "needs_background": "light"
     },
     "output_type": "display_data"
    }
   ],
   "source": [
    "print(subdf.info())\n",
    "seaborn.boxplot(data =subdf, orient = 'h')\n",
    "plt.show()"
   ]
  },
  {
   "cell_type": "code",
   "execution_count": 6,
   "metadata": {},
   "outputs": [
    {
     "data": {
      "image/png": "[encoded data removed]",
      "text/plain": [
       "<Figure size 432x288 with 2 Axes>"
      ]
     },
     "metadata": {
      "needs_background": "light"
     },
     "output_type": "display_data"
    }
   ],
   "source": [
    "core_matrix = subdf.corr() \n",
    "seaborn.heatmap(core_matrix, cmap='gist_earth')\n",
    "plt.show()"
   ]
  },
  {
   "cell_type": "code",
   "execution_count": 7,
   "metadata": {},
   "outputs": [],
   "source": [
    "models = ['Linear Regression', 'XGBoost','SVM']\n",
    "filenames = []\n",
    "results=[]\n",
    "scores = []\n",
    "c = subdf.take([1,3,6,9,11,12],axis=1)"
   ]
  },
  {
   "cell_type": "markdown",
   "metadata": {},
   "source": [
    "## Define function to evaluate model performance "
   ]
  },
  {
   "cell_type": "code",
   "execution_count": 8,
   "metadata": {},
   "outputs": [],
   "source": [
    "def regression_results(name, y_test, y_pred):\n",
    "    explained_variance=metrics.explained_variance_score(y_test, y_pred)\n",
    "    mean_absolute_error=metrics.mean_absolute_error(y_test, y_pred) \n",
    "    mse=metrics.mean_squared_error(y_test, y_pred) \n",
    "    mean_squared_log_error=metrics.mean_squared_log_error(y_test, y_pred)\n",
    "    median_absolute_error=metrics.median_absolute_error(y_test, y_pred)\n",
    "    r2=metrics.r2_score(y_test, y_pred)\n",
    "    print('explained_variance: ', round(explained_variance,4))    \n",
    "    print('mean_squared_log_error: ', round(mean_squared_log_error,4))\n",
    "    print('r2: ', round(r2,4))\n",
    "    print('MAE: ', round(mean_absolute_error,4))\n",
    "    print('MSE: ', round(mse,4))\n",
    "    print('RMSE: ', round(np.sqrt(mse),4))\n",
    "    return name, r2, np.sqrt(mse), mean_absolute_error"
   ]
  },
  {
   "cell_type": "markdown",
   "metadata": {},
   "source": [
    "## Model 1: Simple linear regression"
   ]
  },
  {
   "cell_type": "code",
   "execution_count": 9,
   "metadata": {},
   "outputs": [],
   "source": [
    "regr_params = [{'fit_intercept':[True, False],\n",
    "              'normalize':[True, False],\n",
    "              }]\n",
    "\n",
    "m1 = GridSearchCV(LinearRegression(), param_grid=regr_params, n_jobs=-1, cv=5, verbose=5, scoring='neg_mean_squared_error')\n",
    "\n",
    "X = np.array(subdf.take([1,3,6,9,11,12],axis=1))\n",
    "y = np.ravel(subdf.take([10],axis=1))\n",
    "\n",
    "\n",
    "X_train1, X_test, y_train1, y_test = train_test_split(X,y, test_size=0.2, random_state=4296)"
   ]
  },
  {
   "cell_type": "markdown",
   "metadata": {},
   "source": [
    "## SMOTE algorithm to refine missing data"
   ]
  },
  {
   "cell_type": "code",
   "execution_count": 10,
   "metadata": {},
   "outputs": [
    {
     "name": "stderr",
     "output_type": "stream",
     "text": [
      "dist_matrix: 100%|#################################################################| 22/22 [00:00<00:00, 150.12it/s]\n",
      "r_index: 100%|#####################################################################| 19/19 [00:00<00:00, 698.22it/s]\n",
      "dist_matrix: 100%|#################################################################| 23/23 [00:00<00:00, 148.55it/s]\n",
      "r_index: 100%|#####################################################################| 16/16 [00:00<00:00, 636.39it/s]\n"
     ]
    },
    {
     "name": "stdout",
     "output_type": "stream",
     "text": [
      "     acid_mp_3   acid_ls_5       edc_8    temp_12  time_dummy_20   scale_6  \\\n",
      "0   103.394125  190.937802  451.596089  19.992704       0.000000  0.000008   \n",
      "1   107.996458  220.264242  502.996977  20.030457       0.000000  0.000000   \n",
      "2   103.379374  190.810969  549.234774  20.011915       0.000000  0.001603   \n",
      "3   103.379000  190.710000  500.000000  20.000000       0.000000  0.000000   \n",
      "4   103.397573  190.965887  500.036413  19.907428       0.001434  0.000000   \n",
      "..         ...         ...         ...        ...            ...       ...   \n",
      "14  100.096348  197.033851  300.437845   4.163256       1.025593  0.003629   \n",
      "15  108.749859  220.449671  298.442549   9.870208       0.004117  0.001834   \n",
      "16   85.337646  141.675293  500.000000   4.000000       1.000000  0.000000   \n",
      "17  100.042135  196.752282  104.620348   3.787803       0.992271  0.000000   \n",
      "18   94.669211  114.673029  500.000000   4.000000       0.466921  1.000000   \n",
      "\n",
      "         LS_16  \n",
      "0   179.480090  \n",
      "1   193.739600  \n",
      "2   178.772994  \n",
      "3   181.886962  \n",
      "4   182.271757  \n",
      "..         ...  \n",
      "14   66.965516  \n",
      "15   90.102320  \n",
      "16   75.483871  \n",
      "17   21.067991  \n",
      "18   82.496970  \n",
      "\n",
      "[118 rows x 7 columns]\n"
     ]
    },
    {
     "data": {
      "image/png": "[encoded data removed]",
      "text/plain": [
       "<Figure size 432x288 with 1 Axes>"
      ]
     },
     "metadata": {
      "needs_background": "light"
     },
     "output_type": "display_data"
    },
    {
     "name": "stdout",
     "output_type": "stream",
     "text": [
      "(98, 6) (118, 7)\n"
     ]
    },
    {
     "data": {
      "image/png": "[encoded data removed]",
      "text/plain": [
       "<Figure size 432x288 with 1 Axes>"
      ]
     },
     "metadata": {
      "needs_background": "light"
     },
     "output_type": "display_data"
    }
   ],
   "source": [
    "\n",
    "smote = pd.DataFrame(np.column_stack((X_train1,y_train1)), columns=['acid_mp_3','acid_ls_5','edc_8','temp_12','time_dummy_20','scale_6','LS_16'])\n",
    "LS_smogn = smogn.smoter(\n",
    "            data = smote,\n",
    "            y = 'LS_16',\n",
    "            k=9,\n",
    "            samp_method='extreme',\n",
    "            rel_thres = 0.8,        ## positive real number (0 < R < 1)\n",
    "            rel_method = 'auto',      ## string ('auto' or 'manual')\n",
    "            rel_xtrm_type = 'both', ## string ('low' or 'both' or 'high')\n",
    "            rel_coef = 0.4)\n",
    "print(LS_smogn)\n",
    "\n",
    "plt.hist(subdf['LS_16'])\n",
    "plt.show()\n",
    "plt.hist(LS_smogn['LS_16'])\n",
    "\n",
    "print(X_train1.shape,LS_smogn.shape)"
   ]
  },
  {
   "cell_type": "code",
   "execution_count": 11,
   "metadata": {},
   "outputs": [],
   "source": [
    "y_train1 = LS_smogn[['LS_16']]\n",
    "LS_smogn=LS_smogn.drop(['LS_16'],axis=1)"
   ]
  },
  {
   "cell_type": "code",
   "execution_count": 12,
   "metadata": {},
   "outputs": [
    {
     "data": {
      "text/plain": [
       "numpy.ndarray"
      ]
     },
     "execution_count": 12,
     "metadata": {},
     "output_type": "execute_result"
    }
   ],
   "source": [
    "type(X_train1)"
   ]
  },
  {
   "cell_type": "code",
   "execution_count": 13,
   "metadata": {},
   "outputs": [
    {
     "data": {
      "text/plain": [
       "numpy.ndarray"
      ]
     },
     "execution_count": 13,
     "metadata": {},
     "output_type": "execute_result"
    }
   ],
   "source": [
    "train2 = np.array(LS_smogn)\n",
    "type(train2)"
   ]
  },
  {
   "cell_type": "code",
   "execution_count": 14,
   "metadata": {},
   "outputs": [
    {
     "name": "stdout",
     "output_type": "stream",
     "text": [
      "Fitting 5 folds for each of 4 candidates, totalling 20 fits\n"
     ]
    },
    {
     "name": "stderr",
     "output_type": "stream",
     "text": [
      "[Parallel(n_jobs=-1)]: Using backend LokyBackend with 8 concurrent workers.\n",
      "[Parallel(n_jobs=-1)]: Done   2 tasks      | elapsed:    7.1s\n",
      "[Parallel(n_jobs=-1)]: Done  10 out of  20 | elapsed:    7.2s remaining:    7.2s\n",
      "[Parallel(n_jobs=-1)]: Done  15 out of  20 | elapsed:    7.2s remaining:    2.3s\n",
      "[Parallel(n_jobs=-1)]: Done  20 out of  20 | elapsed:    7.7s remaining:    0.0s\n",
      "[Parallel(n_jobs=-1)]: Done  20 out of  20 | elapsed:    7.7s finished\n"
     ]
    }
   ],
   "source": [
    "\n",
    "m1.fit(train2, y_train1)\n",
    "\n",
    "y_pred_train = m1.predict(train2)\n",
    "#y_pred = m1.predict(X_val)\n",
    "y_pred_2 = m1.predict(X_test)\n",
    "\n",
    "res0 = np.sqrt(mean_squared_error(y_pred_train, y_train1))\n",
    "#res1 = np.sqrt(mean_squared_error(y_val, y_pred))\n",
    "res2 = np.sqrt(mean_squared_error(y_test, y_pred_2))"
   ]
  },
  {
   "cell_type": "code",
   "execution_count": 15,
   "metadata": {},
   "outputs": [
    {
     "name": "stdout",
     "output_type": "stream",
     "text": [
      "RMSE TRAINING: 23.160747\n",
      "RMSE testing: 12.487576\n"
     ]
    }
   ],
   "source": [
    "print('RMSE TRAINING: %.6f' % res0)\n",
    "#print('RMSE validation: %.6f' % res1)\n",
    "print('RMSE testing: %.6f' % res2)"
   ]
  },
  {
   "cell_type": "code",
   "execution_count": 16,
   "metadata": {},
   "outputs": [
    {
     "data": {
      "text/plain": [
       "(array([ 2.,  3.,  4., 31., 22., 16., 12., 16., 16.,  1.]),\n",
       " array([ 21. ,  40.8,  60.6,  80.4, 100.2, 120. , 139.8, 159.6, 179.4,\n",
       "        199.2, 219. ]),\n",
       " <a list of 10 Patch objects>)"
      ]
     },
     "execution_count": 16,
     "metadata": {},
     "output_type": "execute_result"
    },
    {
     "data": {
      "image/png": "[encoded data removed]",
      "text/plain": [
       "<Figure size 432x288 with 1 Axes>"
      ]
     },
     "metadata": {
      "needs_background": "light"
     },
     "output_type": "display_data"
    }
   ],
   "source": [
    "plt.hist(subdf.LS_16)"
   ]
  },
  {
   "cell_type": "code",
   "execution_count": 17,
   "metadata": {},
   "outputs": [
    {
     "data": {
      "text/plain": [
       "(array([1., 0., 3., 8., 4., 3., 2., 1., 1., 2.]),\n",
       " array([ 43. ,  57.3,  71.6,  85.9, 100.2, 114.5, 128.8, 143.1, 157.4,\n",
       "        171.7, 186. ]),\n",
       " <a list of 10 Patch objects>)"
      ]
     },
     "execution_count": 17,
     "metadata": {},
     "output_type": "execute_result"
    },
    {
     "data": {
      "image/png": "[encoded data removed]",
      "text/plain": [
       "<Figure size 432x288 with 1 Axes>"
      ]
     },
     "metadata": {
      "needs_background": "light"
     },
     "output_type": "display_data"
    }
   ],
   "source": [
    "plt.hist(y_test)"
   ]
  },
  {
   "cell_type": "code",
   "execution_count": 18,
   "metadata": {},
   "outputs": [
    {
     "data": {
      "text/plain": [
       "(array([1., 3., 2., 7., 2., 3., 3., 2., 0., 2.]),\n",
       " array([ 52.39084079,  65.70152661,  79.01221244,  92.32289827,\n",
       "        105.6335841 , 118.94426992, 132.25495575, 145.56564158,\n",
       "        158.8763274 , 172.18701323, 185.49769906]),\n",
       " <a list of 10 Patch objects>)"
      ]
     },
     "execution_count": 18,
     "metadata": {},
     "output_type": "execute_result"
    },
    {
     "data": {
      "image/png": "[encoded data removed]",
      "text/plain": [
       "<Figure size 432x288 with 1 Axes>"
      ]
     },
     "metadata": {
      "needs_background": "light"
     },
     "output_type": "display_data"
    }
   ],
   "source": [
    "plt.hist(y_pred_2)"
   ]
  },
  {
   "cell_type": "code",
   "execution_count": 19,
   "metadata": {},
   "outputs": [
    {
     "data": {
      "text/plain": [
       "LinearRegression(copy_X=True, fit_intercept=True, n_jobs=None, normalize=True)"
      ]
     },
     "execution_count": 19,
     "metadata": {},
     "output_type": "execute_result"
    }
   ],
   "source": [
    "m1.best_estimator_"
   ]
  },
  {
   "cell_type": "code",
   "execution_count": 20,
   "metadata": {},
   "outputs": [
    {
     "name": "stdout",
     "output_type": "stream",
     "text": [
      "explained_variance:  0.8476\n",
      "mean_squared_log_error:  0.0133\n",
      "r2:  0.8431\n",
      "MAE:  10.1694\n",
      "MSE:  155.9395\n",
      "RMSE:  12.4876\n"
     ]
    }
   ],
   "source": [
    "scores.append(regression_results(models[0],y_pred_2,y_test))"
   ]
  },
  {
   "cell_type": "code",
   "execution_count": 21,
   "metadata": {},
   "outputs": [
    {
     "name": "stdout",
     "output_type": "stream",
     "text": [
      "[[100 196 200   4   1   1]\n",
      " [100 196 250   4   1   1]\n",
      " [100 196 300   4   1   1]\n",
      " [100 196 350   4   1   1]\n",
      " [100 196 400   4   1   1]\n",
      " [100 196 450   4   1   1]\n",
      " [100 196 500   4   1   1]\n",
      " [100 196 550   4   1   1]\n",
      " [100 196 600   4   1   1]\n",
      " [100 196 650   4   1   1]\n",
      " [100 196 700   4   1   1]\n",
      " [100 196 750   4   1   1]\n",
      " [100 196 800   4   1   1]]\n",
      "\n",
      " [ 62.11198683  70.73289214  79.35379746  87.97470277  96.59560808\n",
      " 105.2165134  113.83741871 122.45832402 131.07922933 139.70013465\n",
      " 148.32103996 156.94194527 165.56285058]\n"
     ]
    }
   ],
   "source": [
    "filenames.append('m1.sav')\n",
    "pickle.dump(m1, open(filenames[0], 'wb'))\n",
    " \n",
    "# load the model from disk\n",
    "loaded_model = pickle.load(open(filenames[0], 'rb'))\n",
    "new = np.array(pd.read_csv(r'test.csv'))\n",
    "result0 = loaded_model.predict(new)\n",
    "results.append(np.squeeze(result0))\n",
    "print(new)\n",
    "print('\\n', np.squeeze(result0))"
   ]
  },
  {
   "cell_type": "markdown",
   "metadata": {},
   "source": [
    "## Model 2: XGBoost"
   ]
  },
  {
   "cell_type": "markdown",
   "metadata": {},
   "source": [
    "{'max_depth': 1,\n",
    " 'min_child_weight': 1,\n",
    " 'eta': 0.3,\n",
    " 'subsample': 0.9,\n",
    " 'colsample_bytree': 0.8,\n",
    " 'objective': 'reg:squarederror',\n",
    " 'eval_metric': 'rmse',\n",
    " 'validate_parameters': 1}"
   ]
  },
  {
   "cell_type": "code",
   "execution_count": 22,
   "metadata": {},
   "outputs": [],
   "source": [
    "xgboost_params_all = [{\n",
    "                    'learning_rate':np.arange(0.15, 0.31, 0.01),\n",
    "                    'max_depth':[1],\n",
    "                    'min_child_weight':[1],\n",
    "                    'colsample_bytree':[0.8],\n",
    "                    'subsample':[0.9],\n",
    "                    'objective':['reg:squarederror'],\n",
    "                    'eval_metric':['rmse'],\n",
    "                    'eta':[0.3],\n",
    "                    'validate_parameters':[1],\n",
    "                    'n_estimators':np.arange(350,500,10),\n",
    "                     }]\n",
    "m2 = GridSearchCV(XGBRegressor(), param_grid=xgboost_params_all, n_jobs=-1, cv=5, verbose=2)"
   ]
  },
  {
   "cell_type": "code",
   "execution_count": 23,
   "metadata": {},
   "outputs": [
    {
     "name": "stdout",
     "output_type": "stream",
     "text": [
      "Fitting 5 folds for each of 240 candidates, totalling 1200 fits\n"
     ]
    },
    {
     "name": "stderr",
     "output_type": "stream",
     "text": [
      "[Parallel(n_jobs=-1)]: Using backend LokyBackend with 8 concurrent workers.\n",
      "[Parallel(n_jobs=-1)]: Done  25 tasks      | elapsed:    3.3s\n",
      "[Parallel(n_jobs=-1)]: Done 193 tasks      | elapsed:    5.4s\n",
      "[Parallel(n_jobs=-1)]: Done 599 tasks      | elapsed:   10.1s\n",
      "[Parallel(n_jobs=-1)]: Done 1165 tasks      | elapsed:   16.9s\n",
      "[Parallel(n_jobs=-1)]: Done 1185 out of 1200 | elapsed:   17.1s remaining:    0.1s\n",
      "[Parallel(n_jobs=-1)]: Done 1200 out of 1200 | elapsed:   17.3s finished\n"
     ]
    },
    {
     "name": "stdout",
     "output_type": "stream",
     "text": [
      "[14:45:03] WARNING: C:\\Users\\Administrator\\workspace\\xgboost-win64_release_1.0.0\\src\\learner.cc:328: \n",
      "Parameters: { importance_type, missing, n_estimators } might not be used.\n",
      "\n",
      "  This may not be accurate due to some parameters are only used in language bindings but\n",
      "  passed down to XGBoost core.  Or some parameters are not used but slip through this\n",
      "  verification. Please open an issue if you find above cases.\n",
      "\n",
      "\n"
     ]
    }
   ],
   "source": [
    "m2.fit(train2,y_train1)\n",
    "\n",
    "#y_pred_3 = m2.predict(X_val)\n",
    "y_pred_4 = m2.predict(X_test)\n",
    "\n",
    "#res3 = np.sqrt(mean_squared_error(y_val, y_pred_3))\n",
    "res4 = np.sqrt(mean_squared_error(y_test, y_pred_4))"
   ]
  },
  {
   "cell_type": "code",
   "execution_count": 24,
   "metadata": {},
   "outputs": [
    {
     "name": "stdout",
     "output_type": "stream",
     "text": [
      "RMSE testing: 12.127225\n"
     ]
    },
    {
     "data": {
      "text/plain": [
       "<matplotlib.axes._subplots.AxesSubplot at 0x29add081bc8>"
      ]
     },
     "execution_count": 24,
     "metadata": {},
     "output_type": "execute_result"
    },
    {
     "data": {
      "image/png": "[encoded data removed]",
      "text/plain": [
       "<Figure size 432x288 with 1 Axes>"
      ]
     },
     "metadata": {
      "needs_background": "light"
     },
     "output_type": "display_data"
    }
   ],
   "source": [
    "#print('RMSE validation: %.6f' % res3)\n",
    "print('RMSE testing: %.6f' % res4)\n",
    "#seaborn.residplot(y_val,y_pred_3)\n",
    "plt.show()\n",
    "seaborn.residplot(y_test,y_pred_4)"
   ]
  },
  {
   "cell_type": "code",
   "execution_count": 25,
   "metadata": {},
   "outputs": [
    {
     "data": {
      "text/plain": [
       "(array([1., 0., 5., 6., 5., 2., 3., 0., 1., 2.]),\n",
       " array([ 47.693375,  61.678917,  75.66446 ,  89.649994, 103.63554 ,\n",
       "        117.62108 , 131.60661 , 145.59216 , 159.5777  , 173.56325 ,\n",
       "        187.54878 ], dtype=float32),\n",
       " <a list of 10 Patch objects>)"
      ]
     },
     "execution_count": 25,
     "metadata": {},
     "output_type": "execute_result"
    },
    {
     "data": {
      "image/png": "[encoded data removed]",
      "text/plain": [
       "<Figure size 432x288 with 1 Axes>"
      ]
     },
     "metadata": {
      "needs_background": "light"
     },
     "output_type": "display_data"
    }
   ],
   "source": [
    "plt.hist(y_pred_4)"
   ]
  },
  {
   "cell_type": "code",
   "execution_count": 26,
   "metadata": {},
   "outputs": [
    {
     "data": {
      "text/plain": [
       "(array([1., 0., 3., 8., 4., 3., 2., 1., 1., 2.]),\n",
       " array([ 43. ,  57.3,  71.6,  85.9, 100.2, 114.5, 128.8, 143.1, 157.4,\n",
       "        171.7, 186. ]),\n",
       " <a list of 10 Patch objects>)"
      ]
     },
     "execution_count": 26,
     "metadata": {},
     "output_type": "execute_result"
    },
    {
     "data": {
      "image/png": "[encoded data removed]",
      "text/plain": [
       "<Figure size 432x288 with 1 Axes>"
      ]
     },
     "metadata": {
      "needs_background": "light"
     },
     "output_type": "display_data"
    }
   ],
   "source": [
    "plt.hist(y_test)"
   ]
  },
  {
   "cell_type": "code",
   "execution_count": 27,
   "metadata": {},
   "outputs": [
    {
     "name": "stdout",
     "output_type": "stream",
     "text": [
      "explained_variance:  0.8624\n",
      "mean_squared_log_error:  0.0136\n",
      "r2:  0.8526\n",
      "MAE:  9.8373\n",
      "MSE:  147.0696\n",
      "RMSE:  12.1272\n"
     ]
    }
   ],
   "source": [
    "scores.append(regression_results(models[1],np.abs(y_pred_4),y_test))"
   ]
  },
  {
   "cell_type": "code",
   "execution_count": 28,
   "metadata": {},
   "outputs": [
    {
     "name": "stdout",
     "output_type": "stream",
     "text": [
      "[[100 196 200   4   1   1]\n",
      " [100 196 250   4   1   1]\n",
      " [100 196 300   4   1   1]\n",
      " [100 196 350   4   1   1]\n",
      " [100 196 400   4   1   1]\n",
      " [100 196 450   4   1   1]\n",
      " [100 196 500   4   1   1]\n",
      " [100 196 550   4   1   1]\n",
      " [100 196 600   4   1   1]\n",
      " [100 196 650   4   1   1]\n",
      " [100 196 700   4   1   1]\n",
      " [100 196 750   4   1   1]\n",
      " [100 196 800   4   1   1]]\n",
      "\n",
      " [ 46.96663   60.239132  74.38354   87.52387   92.67169  103.55251\n",
      " 102.506096 100.79171  103.17495  103.17495  101.89586  101.89586\n",
      " 125.68131 ]\n"
     ]
    }
   ],
   "source": [
    "filenames.append('m2.sav')\n",
    "pickle.dump(m2, open(filenames[1], 'wb'))\n",
    " \n",
    "# load the model from disk\n",
    "loaded_model = pickle.load(open(filenames[1], 'rb'))\n",
    "new = np.array(pd.read_csv(r'test.csv'))\n",
    "result1 = loaded_model.predict(new)\n",
    "results.append(result1)\n",
    "print(new)\n",
    "print('\\n', result1)"
   ]
  },
  {
   "cell_type": "code",
   "execution_count": 29,
   "metadata": {},
   "outputs": [
    {
     "data": {
      "text/plain": [
       "<BarContainer object of 6 artists>"
      ]
     },
     "execution_count": 29,
     "metadata": {},
     "output_type": "execute_result"
    },
    {
     "data": {
      "image/png": "[encoded data removed]",
      "text/plain": [
       "<Figure size 432x288 with 1 Axes>"
      ]
     },
     "metadata": {
      "needs_background": "light"
     },
     "output_type": "display_data"
    }
   ],
   "source": [
    "plt.barh(c.columns, m2.best_estimator_.feature_importances_)"
   ]
  },
  {
   "cell_type": "markdown",
   "metadata": {},
   "source": [
    "## Model 3: Support Vector Machine"
   ]
  },
  {
   "cell_type": "code",
   "execution_count": 30,
   "metadata": {},
   "outputs": [],
   "source": [
    "svm_params = [{'C': [5],\n",
    "              'kernel': [\"linear\"],\n",
    "            'cache_size': [200],\n",
    "           'gamma': ['auto'],\n",
    "           'degree':[x for x in range(1,5,1)],              \n",
    "           }]\n",
    "m3 = GridSearchCV(SVR(), param_grid=svm_params, n_jobs=-1, cv=5, verbose=2)"
   ]
  },
  {
   "cell_type": "code",
   "execution_count": 31,
   "metadata": {},
   "outputs": [
    {
     "name": "stdout",
     "output_type": "stream",
     "text": [
      "Fitting 5 folds for each of 4 candidates, totalling 20 fits\n"
     ]
    },
    {
     "name": "stderr",
     "output_type": "stream",
     "text": [
      "[Parallel(n_jobs=-1)]: Using backend LokyBackend with 8 concurrent workers.\n",
      "[Parallel(n_jobs=-1)]: Done  16 out of  20 | elapsed:    5.2s remaining:    1.2s\n",
      "[Parallel(n_jobs=-1)]: Done  20 out of  20 | elapsed:    6.5s finished\n",
      "C:\\Users\\10273310\\AppData\\Local\\Continuum\\anaconda3\\lib\\site-packages\\sklearn\\utils\\validation.py:760: DataConversionWarning: A column-vector y was passed when a 1d array was expected. Please change the shape of y to (n_samples, ), for example using ravel().\n",
      "  y = column_or_1d(y, warn=True)\n"
     ]
    }
   ],
   "source": [
    "m3.fit(train2,y_train1)\n",
    "\n",
    "#y_pred_5 = m3.predict(X_val)\n",
    "y_pred_6 = m3.predict(X_test)\n",
    "\n",
    "#res5 = np.sqrt(mean_squared_error(y_val, y_pred_5))\n",
    "res6 = np.sqrt(mean_squared_error(y_test, y_pred_6))"
   ]
  },
  {
   "cell_type": "code",
   "execution_count": 32,
   "metadata": {},
   "outputs": [
    {
     "name": "stdout",
     "output_type": "stream",
     "text": [
      "RMSE testing: 12.633868\n"
     ]
    },
    {
     "data": {
      "text/plain": [
       "<matplotlib.axes._subplots.AxesSubplot at 0x29adcffa748>"
      ]
     },
     "execution_count": 32,
     "metadata": {},
     "output_type": "execute_result"
    },
    {
     "data": {
      "image/png": "[encoded data removed]",
      "text/plain": [
       "<Figure size 432x288 with 1 Axes>"
      ]
     },
     "metadata": {
      "needs_background": "light"
     },
     "output_type": "display_data"
    }
   ],
   "source": [
    "#print('RMSE validation: %.6f' % res5)\n",
    "print('RMSE testing: %.6f' % res6)\n",
    "#seaborn.residplot(y_val,y_pred_5)\n",
    "plt.show()\n",
    "seaborn.residplot(y_test,y_pred_6)"
   ]
  },
  {
   "cell_type": "code",
   "execution_count": 33,
   "metadata": {},
   "outputs": [
    {
     "name": "stdout",
     "output_type": "stream",
     "text": [
      "explained_variance:  0.8482\n",
      "mean_squared_log_error:  0.0145\n",
      "r2:  0.8428\n",
      "MAE:  9.5962\n",
      "MSE:  159.6146\n",
      "RMSE:  12.6339\n"
     ]
    }
   ],
   "source": [
    "scores.append(regression_results(models[2],y_pred_6,y_test))"
   ]
  },
  {
   "cell_type": "code",
   "execution_count": 34,
   "metadata": {},
   "outputs": [
    {
     "name": "stdout",
     "output_type": "stream",
     "text": [
      "[[100 196 200   4   1   1]\n",
      " [100 196 250   4   1   1]\n",
      " [100 196 300   4   1   1]\n",
      " [100 196 350   4   1   1]\n",
      " [100 196 400   4   1   1]\n",
      " [100 196 450   4   1   1]\n",
      " [100 196 500   4   1   1]\n",
      " [100 196 550   4   1   1]\n",
      " [100 196 600   4   1   1]\n",
      " [100 196 650   4   1   1]\n",
      " [100 196 700   4   1   1]\n",
      " [100 196 750   4   1   1]\n",
      " [100 196 800   4   1   1]]\n",
      "\n",
      " [ 55.94678231  64.27413522  72.60148812  80.92884103  89.25619394\n",
      "  97.58354684 105.91089974 114.23825265 122.56560556 130.89295846\n",
      " 139.22031137 147.54766427 155.87501718]\n"
     ]
    }
   ],
   "source": [
    "filenames.append('m3.sav')\n",
    "pickle.dump(m3, open(filenames[2], 'wb'))\n",
    " \n",
    "# load the model from disk\n",
    "loaded_model = pickle.load(open(filenames[2], 'rb'))\n",
    "new = np.array(pd.read_csv(r'test.csv'))\n",
    "result2 = loaded_model.predict(new)\n",
    "results.append(result2)\n",
    "print(new)\n",
    "print('\\n', result2)"
   ]
  },
  {
   "cell_type": "code",
   "execution_count": 44,
   "metadata": {},
   "outputs": [
    {
     "data": {
      "text/plain": [
       "[('Linear Regression',\n",
       "  0.8430951149466295,\n",
       "  12.487575686263925,\n",
       "  10.169439565447105),\n",
       " ('XGBoost', 0.8525816959074803, 12.127224676666403, 9.837325793457033),\n",
       " ('SVM', 0.8427882700410487, 12.633867612056358, 9.596165569793941)]"
      ]
     },
     "execution_count": 44,
     "metadata": {},
     "output_type": "execute_result"
    }
   ],
   "source": [
    "scores"
   ]
  },
  {
   "cell_type": "code",
   "execution_count": 36,
   "metadata": {},
   "outputs": [
    {
     "data": {
      "text/plain": [
       "12.416222658328897"
      ]
     },
     "execution_count": 36,
     "metadata": {},
     "output_type": "execute_result"
    }
   ],
   "source": [
    "(scores[0][2]+scores[1][2]+scores[2][2])/3"
   ]
  },
  {
   "cell_type": "code",
   "execution_count": 37,
   "metadata": {},
   "outputs": [
    {
     "data": {
      "text/plain": [
       "[array([ 62.11198683,  70.73289214,  79.35379746,  87.97470277,\n",
       "         96.59560808, 105.2165134 , 113.83741871, 122.45832402,\n",
       "        131.07922933, 139.70013465, 148.32103996, 156.94194527,\n",
       "        165.56285058]),\n",
       " array([ 46.96663 ,  60.239132,  74.38354 ,  87.52387 ,  92.67169 ,\n",
       "        103.55251 , 102.506096, 100.79171 , 103.17495 , 103.17495 ,\n",
       "        101.89586 , 101.89586 , 125.68131 ], dtype=float32),\n",
       " array([ 55.94678231,  64.27413522,  72.60148812,  80.92884103,\n",
       "         89.25619394,  97.58354684, 105.91089974, 114.23825265,\n",
       "        122.56560556, 130.89295846, 139.22031137, 147.54766427,\n",
       "        155.87501718])]"
      ]
     },
     "execution_count": 37,
     "metadata": {},
     "output_type": "execute_result"
    }
   ],
   "source": [
    "results"
   ]
  },
  {
   "cell_type": "code",
   "execution_count": 38,
   "metadata": {},
   "outputs": [
    {
     "data": {
      "text/html": [
       "<div>\n",
       "<style scoped>\n",
       "    .dataframe tbody tr th:only-of-type {\n",
       "        vertical-align: middle;\n",
       "    }\n",
       "\n",
       "    .dataframe tbody tr th {\n",
       "        vertical-align: top;\n",
       "    }\n",
       "\n",
       "    .dataframe thead th {\n",
       "        text-align: right;\n",
       "    }\n",
       "</style>\n",
       "<table border=\"1\" class=\"dataframe\">\n",
       "  <thead>\n",
       "    <tr style=\"text-align: right;\">\n",
       "      <th></th>\n",
       "      <th>mp</th>\n",
       "      <th>acid_ls</th>\n",
       "      <th>edc</th>\n",
       "      <th>temp</th>\n",
       "      <th>time</th>\n",
       "      <th>scale</th>\n",
       "    </tr>\n",
       "  </thead>\n",
       "  <tbody>\n",
       "    <tr>\n",
       "      <td>0</td>\n",
       "      <td>100</td>\n",
       "      <td>196</td>\n",
       "      <td>200</td>\n",
       "      <td>4</td>\n",
       "      <td>1</td>\n",
       "      <td>1</td>\n",
       "    </tr>\n",
       "    <tr>\n",
       "      <td>1</td>\n",
       "      <td>100</td>\n",
       "      <td>196</td>\n",
       "      <td>250</td>\n",
       "      <td>4</td>\n",
       "      <td>1</td>\n",
       "      <td>1</td>\n",
       "    </tr>\n",
       "    <tr>\n",
       "      <td>2</td>\n",
       "      <td>100</td>\n",
       "      <td>196</td>\n",
       "      <td>300</td>\n",
       "      <td>4</td>\n",
       "      <td>1</td>\n",
       "      <td>1</td>\n",
       "    </tr>\n",
       "    <tr>\n",
       "      <td>3</td>\n",
       "      <td>100</td>\n",
       "      <td>196</td>\n",
       "      <td>350</td>\n",
       "      <td>4</td>\n",
       "      <td>1</td>\n",
       "      <td>1</td>\n",
       "    </tr>\n",
       "    <tr>\n",
       "      <td>4</td>\n",
       "      <td>100</td>\n",
       "      <td>196</td>\n",
       "      <td>400</td>\n",
       "      <td>4</td>\n",
       "      <td>1</td>\n",
       "      <td>1</td>\n",
       "    </tr>\n",
       "    <tr>\n",
       "      <td>5</td>\n",
       "      <td>100</td>\n",
       "      <td>196</td>\n",
       "      <td>450</td>\n",
       "      <td>4</td>\n",
       "      <td>1</td>\n",
       "      <td>1</td>\n",
       "    </tr>\n",
       "    <tr>\n",
       "      <td>6</td>\n",
       "      <td>100</td>\n",
       "      <td>196</td>\n",
       "      <td>500</td>\n",
       "      <td>4</td>\n",
       "      <td>1</td>\n",
       "      <td>1</td>\n",
       "    </tr>\n",
       "    <tr>\n",
       "      <td>7</td>\n",
       "      <td>100</td>\n",
       "      <td>196</td>\n",
       "      <td>550</td>\n",
       "      <td>4</td>\n",
       "      <td>1</td>\n",
       "      <td>1</td>\n",
       "    </tr>\n",
       "    <tr>\n",
       "      <td>8</td>\n",
       "      <td>100</td>\n",
       "      <td>196</td>\n",
       "      <td>600</td>\n",
       "      <td>4</td>\n",
       "      <td>1</td>\n",
       "      <td>1</td>\n",
       "    </tr>\n",
       "    <tr>\n",
       "      <td>9</td>\n",
       "      <td>100</td>\n",
       "      <td>196</td>\n",
       "      <td>650</td>\n",
       "      <td>4</td>\n",
       "      <td>1</td>\n",
       "      <td>1</td>\n",
       "    </tr>\n",
       "    <tr>\n",
       "      <td>10</td>\n",
       "      <td>100</td>\n",
       "      <td>196</td>\n",
       "      <td>700</td>\n",
       "      <td>4</td>\n",
       "      <td>1</td>\n",
       "      <td>1</td>\n",
       "    </tr>\n",
       "    <tr>\n",
       "      <td>11</td>\n",
       "      <td>100</td>\n",
       "      <td>196</td>\n",
       "      <td>750</td>\n",
       "      <td>4</td>\n",
       "      <td>1</td>\n",
       "      <td>1</td>\n",
       "    </tr>\n",
       "    <tr>\n",
       "      <td>12</td>\n",
       "      <td>100</td>\n",
       "      <td>196</td>\n",
       "      <td>800</td>\n",
       "      <td>4</td>\n",
       "      <td>1</td>\n",
       "      <td>1</td>\n",
       "    </tr>\n",
       "  </tbody>\n",
       "</table>\n",
       "</div>"
      ],
      "text/plain": [
       "     mp  acid_ls  edc  temp  time  scale\n",
       "0   100      196  200     4     1      1\n",
       "1   100      196  250     4     1      1\n",
       "2   100      196  300     4     1      1\n",
       "3   100      196  350     4     1      1\n",
       "4   100      196  400     4     1      1\n",
       "5   100      196  450     4     1      1\n",
       "6   100      196  500     4     1      1\n",
       "7   100      196  550     4     1      1\n",
       "8   100      196  600     4     1      1\n",
       "9   100      196  650     4     1      1\n",
       "10  100      196  700     4     1      1\n",
       "11  100      196  750     4     1      1\n",
       "12  100      196  800     4     1      1"
      ]
     },
     "execution_count": 38,
     "metadata": {},
     "output_type": "execute_result"
    }
   ],
   "source": [
    "test = pd.read_csv(r'test.csv')\n",
    "ensemble = pd.DataFrame(data=results,columns = np.array(test.edc))\n",
    "\n",
    "test"
   ]
  },
  {
   "cell_type": "code",
   "execution_count": 39,
   "metadata": {},
   "outputs": [
    {
     "data": {
      "text/html": [
       "<div>\n",
       "<style scoped>\n",
       "    .dataframe tbody tr th:only-of-type {\n",
       "        vertical-align: middle;\n",
       "    }\n",
       "\n",
       "    .dataframe tbody tr th {\n",
       "        vertical-align: top;\n",
       "    }\n",
       "\n",
       "    .dataframe thead th {\n",
       "        text-align: right;\n",
       "    }\n",
       "</style>\n",
       "<table border=\"1\" class=\"dataframe\">\n",
       "  <thead>\n",
       "    <tr style=\"text-align: right;\">\n",
       "      <th></th>\n",
       "      <th>200</th>\n",
       "      <th>250</th>\n",
       "      <th>300</th>\n",
       "      <th>350</th>\n",
       "      <th>400</th>\n",
       "      <th>450</th>\n",
       "      <th>500</th>\n",
       "      <th>550</th>\n",
       "      <th>600</th>\n",
       "      <th>650</th>\n",
       "      <th>700</th>\n",
       "      <th>750</th>\n",
       "      <th>800</th>\n",
       "    </tr>\n",
       "  </thead>\n",
       "  <tbody>\n",
       "    <tr>\n",
       "      <td>Linear Regression</td>\n",
       "      <td>62.111987</td>\n",
       "      <td>70.732892</td>\n",
       "      <td>79.353797</td>\n",
       "      <td>87.974703</td>\n",
       "      <td>96.595608</td>\n",
       "      <td>105.216513</td>\n",
       "      <td>113.837419</td>\n",
       "      <td>122.458324</td>\n",
       "      <td>131.079229</td>\n",
       "      <td>139.700135</td>\n",
       "      <td>148.321040</td>\n",
       "      <td>156.941945</td>\n",
       "      <td>165.562851</td>\n",
       "    </tr>\n",
       "    <tr>\n",
       "      <td>XGBoost</td>\n",
       "      <td>46.966629</td>\n",
       "      <td>60.239132</td>\n",
       "      <td>74.383537</td>\n",
       "      <td>87.523872</td>\n",
       "      <td>92.671692</td>\n",
       "      <td>103.552513</td>\n",
       "      <td>102.506096</td>\n",
       "      <td>100.791710</td>\n",
       "      <td>103.174950</td>\n",
       "      <td>103.174950</td>\n",
       "      <td>101.895859</td>\n",
       "      <td>101.895859</td>\n",
       "      <td>125.681313</td>\n",
       "    </tr>\n",
       "    <tr>\n",
       "      <td>SVM</td>\n",
       "      <td>55.946782</td>\n",
       "      <td>64.274135</td>\n",
       "      <td>72.601488</td>\n",
       "      <td>80.928841</td>\n",
       "      <td>89.256194</td>\n",
       "      <td>97.583547</td>\n",
       "      <td>105.910900</td>\n",
       "      <td>114.238253</td>\n",
       "      <td>122.565606</td>\n",
       "      <td>130.892958</td>\n",
       "      <td>139.220311</td>\n",
       "      <td>147.547664</td>\n",
       "      <td>155.875017</td>\n",
       "    </tr>\n",
       "  </tbody>\n",
       "</table>\n",
       "</div>"
      ],
      "text/plain": [
       "                         200        250        300        350        400  \\\n",
       "Linear Regression  62.111987  70.732892  79.353797  87.974703  96.595608   \n",
       "XGBoost            46.966629  60.239132  74.383537  87.523872  92.671692   \n",
       "SVM                55.946782  64.274135  72.601488  80.928841  89.256194   \n",
       "\n",
       "                          450         500         550         600         650  \\\n",
       "Linear Regression  105.216513  113.837419  122.458324  131.079229  139.700135   \n",
       "XGBoost            103.552513  102.506096  100.791710  103.174950  103.174950   \n",
       "SVM                 97.583547  105.910900  114.238253  122.565606  130.892958   \n",
       "\n",
       "                          700         750         800  \n",
       "Linear Regression  148.321040  156.941945  165.562851  \n",
       "XGBoost            101.895859  101.895859  125.681313  \n",
       "SVM                139.220311  147.547664  155.875017  "
      ]
     },
     "execution_count": 39,
     "metadata": {},
     "output_type": "execute_result"
    }
   ],
   "source": [
    "ensemble.index=models\n",
    "ensemble"
   ]
  },
  {
   "cell_type": "code",
   "execution_count": 40,
   "metadata": {},
   "outputs": [
    {
     "data": {
      "text/html": [
       "<div>\n",
       "<style scoped>\n",
       "    .dataframe tbody tr th:only-of-type {\n",
       "        vertical-align: middle;\n",
       "    }\n",
       "\n",
       "    .dataframe tbody tr th {\n",
       "        vertical-align: top;\n",
       "    }\n",
       "\n",
       "    .dataframe thead th {\n",
       "        text-align: right;\n",
       "    }\n",
       "</style>\n",
       "<table border=\"1\" class=\"dataframe\">\n",
       "  <thead>\n",
       "    <tr style=\"text-align: right;\">\n",
       "      <th></th>\n",
       "      <th>mp</th>\n",
       "      <th>acid_ls</th>\n",
       "      <th>temp</th>\n",
       "      <th>time</th>\n",
       "      <th>scale</th>\n",
       "      <th>avg_prediction</th>\n",
       "    </tr>\n",
       "    <tr>\n",
       "      <th>edc</th>\n",
       "      <th></th>\n",
       "      <th></th>\n",
       "      <th></th>\n",
       "      <th></th>\n",
       "      <th></th>\n",
       "      <th></th>\n",
       "    </tr>\n",
       "  </thead>\n",
       "  <tbody>\n",
       "    <tr>\n",
       "      <td>200</td>\n",
       "      <td>100</td>\n",
       "      <td>196</td>\n",
       "      <td>4</td>\n",
       "      <td>1</td>\n",
       "      <td>1</td>\n",
       "      <td>55.008466</td>\n",
       "    </tr>\n",
       "    <tr>\n",
       "      <td>250</td>\n",
       "      <td>100</td>\n",
       "      <td>196</td>\n",
       "      <td>4</td>\n",
       "      <td>1</td>\n",
       "      <td>1</td>\n",
       "      <td>65.082053</td>\n",
       "    </tr>\n",
       "    <tr>\n",
       "      <td>300</td>\n",
       "      <td>100</td>\n",
       "      <td>196</td>\n",
       "      <td>4</td>\n",
       "      <td>1</td>\n",
       "      <td>1</td>\n",
       "      <td>75.446274</td>\n",
       "    </tr>\n",
       "    <tr>\n",
       "      <td>350</td>\n",
       "      <td>100</td>\n",
       "      <td>196</td>\n",
       "      <td>4</td>\n",
       "      <td>1</td>\n",
       "      <td>1</td>\n",
       "      <td>85.475805</td>\n",
       "    </tr>\n",
       "    <tr>\n",
       "      <td>400</td>\n",
       "      <td>100</td>\n",
       "      <td>196</td>\n",
       "      <td>4</td>\n",
       "      <td>1</td>\n",
       "      <td>1</td>\n",
       "      <td>92.841165</td>\n",
       "    </tr>\n",
       "    <tr>\n",
       "      <td>450</td>\n",
       "      <td>100</td>\n",
       "      <td>196</td>\n",
       "      <td>4</td>\n",
       "      <td>1</td>\n",
       "      <td>1</td>\n",
       "      <td>102.117524</td>\n",
       "    </tr>\n",
       "    <tr>\n",
       "      <td>500</td>\n",
       "      <td>100</td>\n",
       "      <td>196</td>\n",
       "      <td>4</td>\n",
       "      <td>1</td>\n",
       "      <td>1</td>\n",
       "      <td>107.418138</td>\n",
       "    </tr>\n",
       "    <tr>\n",
       "      <td>550</td>\n",
       "      <td>100</td>\n",
       "      <td>196</td>\n",
       "      <td>4</td>\n",
       "      <td>1</td>\n",
       "      <td>1</td>\n",
       "      <td>112.496096</td>\n",
       "    </tr>\n",
       "    <tr>\n",
       "      <td>600</td>\n",
       "      <td>100</td>\n",
       "      <td>196</td>\n",
       "      <td>4</td>\n",
       "      <td>1</td>\n",
       "      <td>1</td>\n",
       "      <td>118.939928</td>\n",
       "    </tr>\n",
       "    <tr>\n",
       "      <td>650</td>\n",
       "      <td>100</td>\n",
       "      <td>196</td>\n",
       "      <td>4</td>\n",
       "      <td>1</td>\n",
       "      <td>1</td>\n",
       "      <td>124.589348</td>\n",
       "    </tr>\n",
       "    <tr>\n",
       "      <td>700</td>\n",
       "      <td>100</td>\n",
       "      <td>196</td>\n",
       "      <td>4</td>\n",
       "      <td>1</td>\n",
       "      <td>1</td>\n",
       "      <td>129.812403</td>\n",
       "    </tr>\n",
       "    <tr>\n",
       "      <td>750</td>\n",
       "      <td>100</td>\n",
       "      <td>196</td>\n",
       "      <td>4</td>\n",
       "      <td>1</td>\n",
       "      <td>1</td>\n",
       "      <td>135.461823</td>\n",
       "    </tr>\n",
       "    <tr>\n",
       "      <td>800</td>\n",
       "      <td>100</td>\n",
       "      <td>196</td>\n",
       "      <td>4</td>\n",
       "      <td>1</td>\n",
       "      <td>1</td>\n",
       "      <td>149.039727</td>\n",
       "    </tr>\n",
       "  </tbody>\n",
       "</table>\n",
       "</div>"
      ],
      "text/plain": [
       "      mp  acid_ls  temp  time  scale  avg_prediction\n",
       "edc                                                 \n",
       "200  100      196     4     1      1       55.008466\n",
       "250  100      196     4     1      1       65.082053\n",
       "300  100      196     4     1      1       75.446274\n",
       "350  100      196     4     1      1       85.475805\n",
       "400  100      196     4     1      1       92.841165\n",
       "450  100      196     4     1      1      102.117524\n",
       "500  100      196     4     1      1      107.418138\n",
       "550  100      196     4     1      1      112.496096\n",
       "600  100      196     4     1      1      118.939928\n",
       "650  100      196     4     1      1      124.589348\n",
       "700  100      196     4     1      1      129.812403\n",
       "750  100      196     4     1      1      135.461823\n",
       "800  100      196     4     1      1      149.039727"
      ]
     },
     "execution_count": 40,
     "metadata": {},
     "output_type": "execute_result"
    }
   ],
   "source": [
    "mean=ensemble.mean()\n",
    "test = test.set_index('edc')\n",
    "test['avg_prediction'] = mean\n",
    "test"
   ]
  },
  {
   "cell_type": "code",
   "execution_count": 41,
   "metadata": {},
   "outputs": [
    {
     "data": {
      "text/plain": [
       "Text(0, 0.5, 'Linker Score')"
      ]
     },
     "execution_count": 41,
     "metadata": {},
     "output_type": "execute_result"
    },
    {
     "data": {
      "image/png": "[encoded data removed]",
      "text/plain": [
       "<Figure size 432x288 with 1 Axes>"
      ]
     },
     "metadata": {
      "needs_background": "light"
     },
     "output_type": "display_data"
    }
   ],
   "source": [
    "plt.scatter(test.index,test.avg_prediction)\n",
    "plt.xlabel('EDC')\n",
    "plt.ylabel('Linker Score')"
   ]
  },
  {
   "cell_type": "code",
   "execution_count": 42,
   "metadata": {},
   "outputs": [
    {
     "data": {
      "text/plain": [
       "11.24633566993719"
      ]
     },
     "execution_count": 42,
     "metadata": {},
     "output_type": "execute_result"
    }
   ],
   "source": [
    "res7 = np.sqrt(mean_squared_error(y_test,(np.squeeze(y_pred_2)+y_pred_4+y_pred_6)/3))\n",
    "res7"
   ]
  },
  {
   "cell_type": "code",
   "execution_count": null,
   "metadata": {},
   "outputs": [],
   "source": []
  }
 ],
 "metadata": {
  "kernelspec": {
   "display_name": "Python 3",
   "language": "python",
   "name": "python3"
  },
  "language_info": {
   "codemirror_mode": {
    "name": "ipython",
    "version": 3
   },
   "file_extension": ".py",
   "mimetype": "text/x-python",
   "name": "python",
   "nbconvert_exporter": "python",
   "pygments_lexer": "ipython3",
   "version": "3.7.4"
  }
 },
 "nbformat": 4,
 "nbformat_minor": 2
}
